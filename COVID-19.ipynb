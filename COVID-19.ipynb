{
 "cells": [
  {
   "cell_type": "code",
   "execution_count": 1,
   "metadata": {},
   "outputs": [],
   "source": [
    "using CSV\n",
    "using DataFrames\n",
    "using DataFramesMeta\n",
    "using StatsPlots\n",
    "using DifferentialEquations\n",
    "using Dates"
   ]
  },
  {
   "cell_type": "markdown",
   "metadata": {},
   "source": [
    "This is more a data science post than machine learning. It was born after reading a [report](https://www.imperial.ac.uk/media/imperial-college/medicine/sph/ide/gida-fellowships/Imperial-College-COVID19-NPI-modelling-16-03-2020.pdf) from Imperial College London and finding a forecasting model by [NeherLab](https://neherlab.org/covid19/). The numbers produced by those models can only be described as terrifying. "
   ]
  },
  {
   "cell_type": "markdown",
   "metadata": {},
   "source": [
    "How do those models work? How are they calibrated?  "
   ]
  },
  {
   "cell_type": "markdown",
   "metadata": {},
   "source": [
    "__BUT__"
   ]
  },
  {
   "cell_type": "markdown",
   "metadata": {},
   "source": [
    "Whatever concerns one can have about their precision, those models are all absolutely clear that social-distancing, quarantining have a massive impact on death rates. Being careful saves lives. If anybody feels like ignoring those precautions out of excess testosterone, they are at risk of killing others. "
   ]
  },
  {
   "cell_type": "markdown",
   "metadata": {},
   "source": [
    "This post started from one of the pages of the NeherLab site describing their methodology. The work that team is achieving deserves more credit than I can give them. "
   ]
  },
  {
   "cell_type": "markdown",
   "metadata": {},
   "source": [
    "The NeherLab website, including the model, is entirely written in Javascript. This is difficul to understand and audit."
   ]
  },
  {
   "cell_type": "markdown",
   "metadata": {},
   "source": [
    "# Basic assumptions"
   ]
  },
  {
   "cell_type": "markdown",
   "metadata": {},
   "source": [
    "### Overview\n",
    "\n",
    "The model works as follows:\n",
    "\n",
    " - susceptible individuals are exposed/infected through contact with infectious individuals. Each infectious individual causes on average $R_0$ secondary infections while they are infectious.\n",
    " \n",
    "Transmissibility of the virus could have seasonal variation which is parameterized with the parameter \"seasonal forcing\" (amplitude) and \"peak month\" (month of most efficient transmission).\n",
    "\n",
    "- exposed individuals progress to a symptomatic/infectious state after an average latency\n",
    "\n",
    "- infectious individuals recover or progress to severe disease. The ratio of recovery to severe progression depends on age\n",
    "\n",
    "- severely sick individuals either recover or deteriorate and turn critical. Again, this depends on the age\n",
    "\n",
    "- critically ill individuals either return to regular hospital or die. Again, this depends on the age\n",
    "\n",
    "The individual parameters of the model can be changed to allow exploration of different scenarios.\n",
    "\n",
    "<figure className=\"figure w-100 text-center\">\n",
    "  <img src={model} className=\"w-75 figure-img\" alt=\"illustration of the model\" />\n",
    "  <figcaption className=\"figure-caption text-center\">\n",
    "    Figure 1. A schematic illustration of the underlying model. S corresponds to the 'susceptible' population,\n",
    "    E is 'exposed', I is 'infectious', R 'recovered', H 'severe' (hospitalized), C 'critical' (ICU), and D are\n",
    "    fatalities.\n",
    "  </figcaption>\n",
    "</figure>"
   ]
  },
  {
   "cell_type": "markdown",
   "metadata": {},
   "source": [
    "### Age cohorts\n",
    "\n",
    "COVID-19 is much more severe in the elderly and proportion of elderly in a community is therefore an important determinant of the overall burden on the health care system and the death toll. We collected age distributions for many countries from data provided by the UN and make those available as input parameters. Furthermore, we use data provided by the epidemiology group by the [Chinese CDC](http://weekly.chinacdc.cn/en/article/id/e53946e2-c6c4-41e9-9a9b-fea8db1a8f51) to estimate the fraction of severe and fatal cases by age group."
   ]
  },
  {
   "cell_type": "markdown",
   "metadata": {},
   "source": [
    "### Severity\n",
    "\n",
    "The basic model deals with 3 levels of severity: slow, moderate and fast transmissions."
   ]
  },
  {
   "cell_type": "code",
   "execution_count": 2,
   "metadata": {},
   "outputs": [
    {
     "data": {
      "text/plain": [
       ":moderate"
      ]
     },
     "execution_count": 2,
     "metadata": {},
     "output_type": "execute_result"
    }
   ],
   "source": [
    "# severityLevel = :slow\n",
    "severityLevel = :moderate\n",
    "# severityLevel = :fast"
   ]
  },
  {
   "cell_type": "markdown",
   "metadata": {},
   "source": [
    "## Seasonality\n",
    "\n",
    "Many respiratory viruses such as influenza, common cold viruses (including other coronaviruses) have a pronounced seasonal variation in incidence which is in part driven by climate variation through the year. We model this seasonal variation using a sinusoidal function with an annual period. This is a simplistic way to capture seasonality. Furthermore, we don't know yet how seasonality will affect COVID-19 transmission.\n"
   ]
  },
  {
   "cell_type": "code",
   "execution_count": 3,
   "metadata": {},
   "outputs": [
    {
     "data": {
      "text/plain": [
       ":north"
      ]
     },
     "execution_count": 3,
     "metadata": {},
     "output_type": "execute_result"
    }
   ],
   "source": [
    "# Northern or southern hemisphere\n",
    "latitude = :north\n",
    "# latitude = :tropical\n",
    "# latitude = :south"
   ]
  },
  {
   "cell_type": "code",
   "execution_count": 4,
   "metadata": {},
   "outputs": [
    {
     "data": {
      "text/plain": [
       "days2date (generic function with 1 method)"
      ]
     },
     "execution_count": 4,
     "metadata": {},
     "output_type": "execute_result"
    }
   ],
   "source": [
    "# The time unit is days (as floating point)\n",
    "# Day 0 is taken at 1 March 2020\n",
    "BASE_DATE = Date(2020, 3, 1)\n",
    "BASE_DAYS = 0\n",
    "\n",
    "function date2days(d) \n",
    "    return convert(Float64, datetime2rata(d) - datetime2rata(BASE_DATE))\n",
    "end\n",
    "\n",
    "function days2date(d) \n",
    "    return BASE_DATE + Day(d)\n",
    "end    "
   ]
  },
  {
   "cell_type": "code",
   "execution_count": 5,
   "metadata": {},
   "outputs": [
    {
     "data": {
      "text/plain": [
       "Dict{Tuple{Symbol,Symbol},Float64} with 9 entries:\n",
       "  (:tropical, :slow)     => 2.0\n",
       "  (:tropical, :moderate) => 2.5\n",
       "  (:north, :slow)        => 2.2\n",
       "  (:south, :slow)        => 2.2\n",
       "  (:north, :moderate)    => 2.7\n",
       "  (:south, :fast)        => 3.2\n",
       "  (:north, :fast)        => 3.2\n",
       "  (:tropical, :fast)     => 3.0\n",
       "  (:south, :moderate)    => 2.7"
      ]
     },
     "execution_count": 5,
     "metadata": {},
     "output_type": "execute_result"
    }
   ],
   "source": [
    "# Default values for R_0\n",
    "baseR₀ = Dict( (:north,    :slow)     => 2.2, \n",
    "               (:north,    :moderate) => 2.7, \n",
    "               (:north,    :fast)     => 3.2, \n",
    "               (:tropical, :slow)     => 2.0, \n",
    "               (:tropical, :moderate) => 2.5, \n",
    "               (:tropical, :fast)     => 3.0,\n",
    "               (:south,    :slow)     => 2.2, \n",
    "               (:south,    :moderate) => 2.7, \n",
    "               (:south,    :fast)     => 3.2)\n"
   ]
  },
  {
   "cell_type": "code",
   "execution_count": 6,
   "metadata": {},
   "outputs": [
    {
     "data": {
      "text/plain": [
       "Dict{Symbol,Float64} with 3 entries:\n",
       "  :tropical => -60.0\n",
       "  :south    => 122.0\n",
       "  :north    => -60.0"
      ]
     },
     "execution_count": 6,
     "metadata": {},
     "output_type": "execute_result"
    }
   ],
   "source": [
    "# Peak date\n",
    "peakDate = Dict( :north     => date2days(Date(2020, 1, 1)), \n",
    "                 :tropical  => date2days(Date(2020, 1, 1)),    # although no impact\n",
    "                 :south     => date2days(Date(2020, 7, 1)))"
   ]
  },
  {
   "cell_type": "code",
   "execution_count": 7,
   "metadata": {},
   "outputs": [
    {
     "data": {
      "text/plain": [
       "Dict{Tuple{Symbol,Symbol},Float64} with 9 entries:\n",
       "  (:tropical, :slow)     => 0.0\n",
       "  (:tropical, :moderate) => 0.0\n",
       "  (:north, :slow)        => 0.2\n",
       "  (:south, :slow)        => 0.2\n",
       "  (:north, :moderate)    => 0.2\n",
       "  (:south, :fast)        => 0.1\n",
       "  (:north, :fast)        => 0.1\n",
       "  (:tropical, :fast)     => 0.0\n",
       "  (:south, :moderate)    => 0.2"
      ]
     },
     "execution_count": 7,
     "metadata": {},
     "output_type": "execute_result"
    }
   ],
   "source": [
    "# Seasonal forcing parameter \\epsilon\n",
    "ϵ = Dict( (:north,    :slow)     => 0.2, \n",
    "          (:north,    :moderate) => 0.2, \n",
    "          (:north,    :fast)     => 0.1, \n",
    "          (:tropical, :slow)     => 0.0, \n",
    "          (:tropical, :moderate) => 0.0, \n",
    "          (:tropical, :fast)     => 0.0,\n",
    "          (:south,    :slow)     => 0.2, \n",
    "          (:south,    :moderate) => 0.2, \n",
    "          (:south,    :fast)     => 0.1)"
   ]
  },
  {
   "cell_type": "code",
   "execution_count": 8,
   "metadata": {},
   "outputs": [
    {
     "data": {
      "text/plain": [
       "R₀ (generic function with 1 method)"
      ]
     },
     "execution_count": 8,
     "metadata": {},
     "output_type": "execute_result"
    }
   ],
   "source": [
    "# Gives R_0 at a given date\n",
    "function R₀(d; r_0 = missing, latitude = :north, severity = :moderate)\n",
    "    if ismissing(r_0)\n",
    "        r₀ = baseR₀[(latitude, severity)]\n",
    "    else\n",
    "        r₀ = r_0\n",
    "    end\n",
    "    eps = ϵ[(latitude, severity)]\n",
    "    peak = peakDate[latitude]\n",
    "    \n",
    "    return r₀ * (1 + eps * cos(2.0 * π * (d - peak) / 365.25))\n",
    "end"
   ]
  },
  {
   "cell_type": "markdown",
   "metadata": {},
   "source": [
    "## Transmission reduction\n",
    "\n",
    "The tool allows one to explore temporal variation in the reduction of transmission by infection\n",
    "control measures. This is implemented as a curve through time that can be dragged by the mouse to\n",
    "modify the assumed transmission. The curve is read out and used to change the transmission relative\n",
    "to the base line parameters for $R_0$ and seasonality. Several studies attempt to estimate the\n",
    "effect of different aspects of social distancing and infection control on the rate of transmission.\n",
    "A report by [Wang et al](https://www.medrxiv.org/content/10.1101/2020.03.03.20030593v1) estimates a\n",
    "step-wise reduction of $R_0$ from above three to around 1 and then to around 0.3 due to successive\n",
    "measures implemented in Wuhan. [This study](https://www.pnas.org/content/116/27/13174) investigates\n",
    "the effect of school closures on influenza transmission.\n",
    "\n",
    "This curve is presented as a list of tuples: (days from start date, ratio). The month starts from the start date. Between dates, the ration is interpolated linearly. After the last date, the ration remains constant."
   ]
  },
  {
   "cell_type": "code",
   "execution_count": 9,
   "metadata": {},
   "outputs": [
    {
     "data": {
      "text/plain": [
       "getCurrentRatio (generic function with 1 method)"
      ]
     },
     "execution_count": 9,
     "metadata": {},
     "output_type": "execute_result"
    }
   ],
   "source": [
    "startDate = date2days(Date(2020, 3, 1))\n",
    "mitigationRatio = [(0, 1.00), (30, 0.80), (60, 0.20), (150, 0.50)]\n",
    "\n",
    "function getCurrentRatio(d; start = BASE_DAYS, schedule = mitigationRatio)\n",
    "    l = length(schedule)\n",
    "    \n",
    "    # If l = 1, ratio will be the only one\n",
    "    if l == 1 \n",
    "        return schedule[1][2]\n",
    "    else\n",
    "        for i in 2:l\n",
    "            d1 = schedule[i-1][1]\n",
    "            d2 = schedule[i  ][1]\n",
    "            \n",
    "            if d < d2 \n",
    "                deltaR = schedule[i][2] - schedule[i-1][2]\n",
    "                return schedule[i-1][2] + deltaR * (d - d1) / (d2 - d1)\n",
    "            end\n",
    "        end\n",
    "    \n",
    "        # Last possible choice\n",
    "        return schedule[l][2]\n",
    "    end\n",
    "end"
   ]
  },
  {
   "cell_type": "markdown",
   "metadata": {},
   "source": [
    "## Details of the model"
   ]
  },
  {
   "cell_type": "markdown",
   "metadata": {},
   "source": [
    "Age strongly influences an individual's response to the virus. The general population is sub-divided in to age classes, indexed by $a$, to allow for variable transition rates dependent upon age."
   ]
  },
  {
   "cell_type": "code",
   "execution_count": 10,
   "metadata": {},
   "outputs": [
    {
     "data": {
      "text/plain": [
       "Pop2Comp (generic function with 1 method)"
      ]
     },
     "execution_count": 10,
     "metadata": {},
     "output_type": "execute_result"
    }
   ],
   "source": [
    "# The population will be modeled as a single vector. \n",
    "# The vector will be a stack of several vectors, each of them represents a compartment.\n",
    "# Each compartment vector has a size $nAgeGroup$ representing each age group.\n",
    "# The compartments are: S, E, I, H, C, R, D, K, L\n",
    "\n",
    "# We also track the hospital bed usage BED and ICU\n",
    "\n",
    "# Compartments to population\n",
    "#function Comp2Pop(S, E, I, H, C, R, D, K, L, BED, ICU)\n",
    "#    return cat(S, E, I, H, C, R, D, K, L, BED, ICU)\n",
    "#end\n",
    "\n",
    "# Population to compartments\n",
    "function Pop2Comp(P)\n",
    "    \n",
    "    # To make copy/paste less prone to error \n",
    "    g = 0\n",
    "    \n",
    "    S = P[ g*nAgeGroup + 1: (g+1)*nAgeGroup]; g += 1\n",
    "    E = P[ g*nAgeGroup + 1: (g+1)*nAgeGroup]; g += 1\n",
    "    I = P[ g*nAgeGroup + 1: (g+1)*nAgeGroup]; g += 1\n",
    "    J = P[ g*nAgeGroup + 1: (g+1)*nAgeGroup]; g += 1\n",
    "    H = P[ g*nAgeGroup + 1: (g+1)*nAgeGroup]; g += 1\n",
    "    C = P[ g*nAgeGroup + 1: (g+1)*nAgeGroup]; g += 1\n",
    "    R = P[ g*nAgeGroup + 1: (g+1)*nAgeGroup]; g += 1\n",
    "    D = P[ g*nAgeGroup + 1: (g+1)*nAgeGroup]; g += 1\n",
    "    K = P[ g*nAgeGroup + 1: (g+1)*nAgeGroup]; g += 1\n",
    "    L = P[ g*nAgeGroup + 1: (g+1)*nAgeGroup]; g += 1\n",
    "    \n",
    "    BED = P[ g*nAgeGroup + 1: g*nAgeGroup + 1]\n",
    "    ICU = P[ g*nAgeGroup + 2: g*nAgeGroup + 2]\n",
    "    \n",
    "    return S, E, I, J, H, C, R, D, K, L, BED, ICU\n",
    "end"
   ]
  },
  {
   "cell_type": "markdown",
   "metadata": {},
   "source": [
    "### Population compartments\n",
    "\n",
    "Qualitatively, the epidemy model dynamics tracks several sub-groups (compartments):"
   ]
  },
  {
   "cell_type": "markdown",
   "metadata": {},
   "source": [
    "<img src=\"States.svg\">"
   ]
  },
  {
   "cell_type": "markdown",
   "metadata": {},
   "source": [
    "* Susceptible individuals ($S$) are healthy and susceptible to being exposed to the virus by contact with an infected individual."
   ]
  },
  {
   "cell_type": "markdown",
   "metadata": {},
   "source": [
    "* Exposed individuals ($E$) are infected but asymptomatic. They progress towards a symptomatic state on average time $t_l$. Reports are that asymptomatic individuals are contagious. We will assume that they are proportionally less contagious than symptomatic individuals as a percentage $\\gamma_E$ of $R_0$. For the purposes of modelling we will assume (without supporting evidence, but will be the object of parameter estimation):"
   ]
  },
  {
   "cell_type": "code",
   "execution_count": 11,
   "metadata": {},
   "outputs": [
    {
     "data": {
      "text/plain": [
       "0.5"
      ]
     },
     "execution_count": 11,
     "metadata": {},
     "output_type": "execute_result"
    }
   ],
   "source": [
    "γₑ = 0.50"
   ]
  },
  {
   "cell_type": "markdown",
   "metadata": {},
   "source": [
    "* Infected individuals ($I$) infect an average of $R_0$ secondary infections. On a time-scale of $t_i$, infected individuals either recover or progress towards severe infection."
   ]
  },
  {
   "cell_type": "markdown",
   "metadata": {},
   "source": [
    "From here on, the compartments differ from the NeherLab model is that we split compartments depending on the severity of the symptoms (Severe or Critical) and the location of the individual (out of the hospital infrastructure, isolated in hospital, or isolated in intensive care units). The transitions reflect the following assumptions:\n",
    "\n",
    "* Transition between locations is purely a function of bed availability: as soon as beds are available, they are filled by all age groups in their respective proportions. \n",
    "\n",
    "* Transition from severe to critical is assumed to be independent from the location of the patient. For severe patients, the relevance of the location is whether they are isolated or not, that is the possibility to infect susceptible individual. The same way an asymptomatic individual's attracts a ratio $\\gamma_e$, the other compartments will. The transition from $J$ and $H$ to recovery or criticality has a time-scale of $t_h$. "
   ]
  },
  {
   "cell_type": "code",
   "execution_count": 12,
   "metadata": {},
   "outputs": [
    {
     "data": {
      "text/plain": [
       "2.0"
      ]
     },
     "execution_count": 12,
     "metadata": {},
     "output_type": "execute_result"
    }
   ],
   "source": [
    "# R_0 multipliers depending on severity. Subscript matches the compartment's name.\n",
    "# Infected / symptomatic individuals\n",
    "γᵢ=1.0\n",
    "\n",
    "# Severe symptoms\n",
    "γⱼ=1.5\n",
    "\n",
    "# Critical symptoms\n",
    "γₖ = 2.0"
   ]
  },
  {
   "cell_type": "markdown",
   "metadata": {},
   "source": [
    "* Once critical, the location of a patient influences their chances of recovery. Although we will assume that the time to recovery is identical in all cases, we will assume that the risks will double and triple if a patient is in simple isolation (receiving care but without ICU equipmment) or out of hospital.   "
   ]
  },
  {
   "cell_type": "code",
   "execution_count": 13,
   "metadata": {},
   "outputs": [
    {
     "data": {
      "text/plain": [
       "3.0"
      ]
     },
     "execution_count": 13,
     "metadata": {},
     "output_type": "execute_result"
    }
   ],
   "source": [
    "# Fatality mulitplier.\n",
    "\n",
    "# In ICU\n",
    "δᵤ = 1.0\n",
    "\n",
    "# In hospital\n",
    "δₗ = 2.0\n",
    "\n",
    "# Out of hospital\n",
    "δₖ = 3.0"
   ]
  },
  {
   "cell_type": "markdown",
   "metadata": {},
   "source": [
    "* The time-scale to recovery ($R$) or death ($D$) is $t_u$."
   ]
  },
  {
   "cell_type": "markdown",
   "metadata": {},
   "source": [
    "* Recovering and recovered individuals [$R$] can not be infected again. We will assume that recovering individual are not contagious (no medical experience for this assumption for recovering individual)."
   ]
  },
  {
   "cell_type": "markdown",
   "metadata": {},
   "source": [
    "### Model parameters"
   ]
  },
  {
   "cell_type": "markdown",
   "metadata": {},
   "source": [
    " * Many estimates of $R_0$ are in the [range of 2-3](https://www.ncbi.nlm.nih.gov/pmc/articles/PMC7001239/) with some estimates pointing to considerably [higher values](https://www.medrxiv.org/content/10.1101/2020.02.10.20021675v1).\n",
    " * The serial interval, that is the time between subsequent infections in a transmission chain, was [estimated to be 7-8 days](https://www.nejm.org/doi/full/10.1056/NEJMoa2001316).\n",
    " * The China CDC compiled [extensive data on severity and fatality of more than 40 thousand confirmed cases](http://weekly.chinacdc.cn/en/article/id/e53946e2-c6c4-41e9-9a9b-fea8db1a8f51).\n",
    " In addition, we assume that a substantial fraction of infections, especially in the young, go unreported. This is encoded in the columns \"Confirmed [% of total]\".\n",
    " * Seasonal variation in transmission is common for many respiratory viruses but the strength of seasonal forcing for COVID19 are uncertain. For more information, see a [study by us](https://smw.ch/article/doi/smw.2020.20224) and by [Kissler et al](https://www.medrxiv.org/content/10.1101/2020.03.04.20031112v1).\n",
    "The parameters of this model fall into three categories: transition time scales, age-specfic parameters and a time-dependent infection rate."
   ]
  },
  {
   "cell_type": "markdown",
   "metadata": {},
   "source": [
    "#### Transition time scales\n",
    "\n",
    "The time scales of transition from a compartment to the next: $t_l$, $t_i$, $t_h$, $t_c$. \n",
    "\n",
    "* $t_l$: latency time from infection to infectiousness \n",
    "* $t_i$: the time an individual is infectious after which he/she either recovers or falls severely ill\n",
    "* $t_h$: the time a sick person recovers or deteriorates into a critical state\n",
    "* $t_u$: the time a person remains critical before dying or stabilizing (Neherlab uses $t_c$ instead of $t_u$)"
   ]
  },
  {
   "cell_type": "code",
   "execution_count": 14,
   "metadata": {},
   "outputs": [
    {
     "data": {
      "text/plain": [
       "14.0"
      ]
     },
     "execution_count": 14,
     "metadata": {},
     "output_type": "execute_result"
    }
   ],
   "source": [
    "# Time to infectiousness (written t\\_l)\n",
    "tₗ = Dict(  :slow     => 5.0, \n",
    "            :moderate => 5.0, \n",
    "            :fast     => 4.0)\n",
    "\n",
    "# Time to infectiousness (written t\\_i)\n",
    "tᵢ = Dict(  :slow     => 3.0, \n",
    "            :moderate => 3.0, \n",
    "            :fast     => 3.0)\n",
    "\n",
    "# Time in hospital bed (not ICU)\n",
    "tₕ = 4.0\n",
    "\n",
    "# Time in ICU \n",
    "tᵤ = 14.0"
   ]
  },
  {
   "cell_type": "markdown",
   "metadata": {},
   "source": [
    "#### Age-specfic parameters\n",
    "\n",
    "The age-specific parameters $z_a$, $m_a$, $c_a$ and $f_a$ that determine relative rates of different outcomes. \n",
    "\n",
    "* $z_a$: a set of numbers reflecting to which extent an age group is susceptible to initial contagion. Note that NeherLab denotes this vector by $I_a$ which is confusing with the compartmment evolution $I_a(t)$ notation. (This sort of defeats the purpose of $R_0$.)\n",
    "* $m_a$: fraction of infectious becoming severe (__Hospitalisation Rate__) or recovers immediately (__Recovery Rate__)\n",
    "* $c_a$: fraction of severe cases that turn critical (__Critical Rate__) or can leave hospital (__Discharge Rate__)\n",
    "* $f_a$: fraction of critical cases that are fatal (__Death Rate__) or recover (__Stabilisation Rate__)"
   ]
  },
  {
   "cell_type": "code",
   "execution_count": 15,
   "metadata": {},
   "outputs": [
    {
     "data": {
      "text/plain": [
       "9"
      ]
     },
     "execution_count": 15,
     "metadata": {},
     "output_type": "execute_result"
    }
   ],
   "source": [
    "AgeGroup = [\"0-9\", \"10-19\", \"20-29\", \"30-39\", \"40-49\", \"50-59\", \"60-69\", \"70-79\", \"80+\"]\n",
    "zₐ =       [0.05,   0.05,   0.10,    0.15,    0.20,    0.25,    0.30,    0.40,    0.50]\n",
    "#zₐ =       [1.00,   1.00,   1.00,    1.00,    1.00,    1.00,    1.00,    1.00,    1.00]   \n",
    "mₐ =       [0.01,   0.03,   0.03,    0.03,    0.06,    0.10,    0.25,    0.35,    0.50]\n",
    "cₐ =       [0.05,   0.10,   0.10,    0.15,    0.20,    0.25,    0.35,    0.45,    0.55]\n",
    "fₐ =       [0.30,   0.30,   0.30,    0.30,    0.30,    0.40,    0.40,    0.50,    0.50]\n",
    "\n",
    "nAgeGroup = length(AgeGroup)\n"
   ]
  },
  {
   "cell_type": "markdown",
   "metadata": {},
   "source": [
    "#### Infrastruture\n",
    "\n",
    "The number of beds available is assumed as a fixed resource in time. The number of hospital (resp. ICU) beds in use will be denoted $\\mathscr{H}(t)$ (resp. $\\mathscr{U}(t)$)  up to a maximum of $\\mathscr{H}_{max}$ (resp. $\\mathscr{U}_{max}$). \n",
    "\n",
    "Although the initial infections took place via dommestic and international travellers (apart from the initial infections in Wuhan obviously), we will assume no net flow of population in and out of a country of interest. "
   ]
  },
  {
   "cell_type": "markdown",
   "metadata": {},
   "source": [
    "### Infection"
   ]
  },
  {
   "cell_type": "markdown",
   "metadata": {},
   "source": [
    "#### Susceptible:\n",
    "\n",
    "The _base_ rate of contagion is denoted as $R_0$. The actual rate varies with time (to reflect seasons and impact of temperature on virus resilience) and the effectiveness of the mitigation measures such as social distancing. Separately, each age group will have a different sensitivity to infection.\n",
    "\n",
    "The infection rate $\\beta_a(t)$ is age- and time-dependent. It is given by:\n",
    "\n",
    "$$\\beta_a(t) = z_a M(t) R_0 \\left( 1+\\varepsilon \\cos \\left( 2\\pi \\frac{t-t_{max}}{t_i} \\right) \\right) $$\n",
    "\n",
    "where:\n",
    "    \n",
    "* $z_a$ is the degree to which particular age groups are sensitive to initial infection. It reflects bioligical sensitivity and to which degree it is isolated from the rest of the population (denoted $I_a$ in NeherLab).\n",
    "* $M(t)$ is a time-dependent ratio reflecting the effectiveness of mitigation measures.\n",
    "* $\\varepsilon$ is the amplitude of seasonal variation in transmissibility.\n",
    "* $t_{max}$ is the time of the year of peak transmission."
   ]
  },
  {
   "cell_type": "markdown",
   "metadata": {},
   "source": [
    "Susceptible individuals are exposed to a number of contagious individuals: \n",
    "\n",
    "* asymptomatic infected:  $$\\gamma_e \\beta_a(t) E_a(t)$$\n",
    "* symptomatic infected: $$\\gamma_i \\beta_a(t) I_a(t)$$\n",
    "* severe not in hospital: $$\\gamma_j \\beta_a(t) J_a(t)$$\n",
    "* critical not in hospital: $$\\gamma_k \\beta_a(t) K_a(t)$$\n",
    "\n",
    "The sum of those will be a flow from susceptible ($S$) to ($E$) exposed individuals.\n",
    "\n",
    "$$\n",
    "\\begin{aligned}\n",
    "S2E_a(t) & = \\gamma_e \\beta_a(t) E_a(t) + \\gamma_i \\beta_a(t) I_a(t) + \\gamma_j \\beta_a(t) K_a(t) + \\gamma_k \\beta_a(t) L_a(t) \\\\ \n",
    "S2E_a(t) & = \\beta_a(t) \\left( \\gamma_e  E_a(t) + \\gamma_i I_a(t) + \\gamma_j J_a(t) + \\gamma_k K_a(t) \\right) \\\\\n",
    "E2S_a(t) & = -S2E_a(t) \\\\\n",
    "\\end{aligned}\n",
    "$$\n"
   ]
  },
  {
   "cell_type": "markdown",
   "metadata": {},
   "source": [
    "and therefore:\n",
    "\n",
    "$$\n",
    "\\frac{dS_{a}(t)}{dt} = - S2E_a(t) = E2S_a(t)\n",
    "$$"
   ]
  },
  {
   "cell_type": "markdown",
   "metadata": {},
   "source": [
    "### After infection\n",
    "\n",
    "Quantitatively, the model expresses how many individuals transfer from one situation/compartment to another. Flows from compartment X to Y are written as $X2Y$ (obviously $X2Y = - Y2X$).\n",
    "\n",
    "Note that the compartments are split into age groups. "
   ]
  },
  {
   "cell_type": "markdown",
   "metadata": {},
   "source": [
    "<img src=\"Transitions.svg\">"
   ]
  },
  {
   "cell_type": "markdown",
   "metadata": {},
   "source": [
    "#### Epidemiology"
   ]
  },
  {
   "cell_type": "markdown",
   "metadata": {},
   "source": [
    "Instead of expressing the sum of the flows at each node, it is easier to express the arrows, and summing them afterwards. For example, arrow from $J$ to $K$ will be:\n",
    "\n",
    "$$JK_a(t) = \\frac{c_a}{t_h} J_a(t)$$\n",
    "\n",
    "with a positive flow following the direction of the arrow. \n",
    "\n",
    "In Julia, this will become:\n",
    "\n",
    "```\n",
    "        JK = cₐ .* J / tₕ\n",
    "```\n",
    "where `J` is a vector representing an age group, `.*` is the element-wise multiplication.\n",
    "\n",
    "After defining the arrows $IJ$, $JK$ and $JH$, the change in $J$ will simply be:\n",
    "\n",
    "```\n",
    "        dJ = IJ - JK - JH\n",
    "```\n"
   ]
  },
  {
   "cell_type": "markdown",
   "metadata": {},
   "source": [
    "#### Bed transfers"
   ]
  },
  {
   "cell_type": "markdown",
   "metadata": {},
   "source": [
    "Individuals are transferred into hospital beds then into ICU beds in the order indicated by the red numbers.\n",
    "\n",
    "Critical patients already in hospital go into ICU as spots become available. The freed bed are first made available to critical patients out of hospital ($K$). Then, any free beds will receive patients in severe condition. "
   ]
  },
  {
   "cell_type": "markdown",
   "metadata": {},
   "source": [
    "#### Safeguards:\n",
    "\n",
    "Note the need to ensure a few common sense rules:\n",
    "\n",
    "* No compartment can have a negative number of people.\n",
    "\n",
    "* The total population figure should remain unchanged. This is done by adjusting the number of susceptible individuals.\n",
    "\n",
    "* Careful accounting of the use of fixed number of hospital beds.\n",
    "\n",
    "* The number of infected people should always be above the number of reported cases. \n"
   ]
  },
  {
   "cell_type": "code",
   "execution_count": 16,
   "metadata": {},
   "outputs": [
    {
     "data": {
      "text/plain": [
       "epiDynamics! (generic function with 1 method)"
      ]
     },
     "execution_count": 16,
     "metadata": {},
     "output_type": "execute_result"
    }
   ],
   "source": [
    "# Helper function to never change the number of individuals in a compartment in a way that would \n",
    "# make it below 0.1 (to avoid rounding errors around 0)\n",
    "function ensurePositive(d,s)\n",
    "    return max.(d .+ s, 0.1) .- s\n",
    "end\n",
    "\n",
    "    \n",
    "    \n",
    "# The dynamics of the epidemy is a function that mutates its argument with a precise signature\n",
    "# Don't pay too much attetion to the print debugs/\n",
    "\n",
    "function epiDynamics!(dP, P, params, t)\n",
    "    \n",
    "    S, E, I, J, H, C, R, D, K, L, BED, ICU = Pop2Comp(P)\n",
    "    \n",
    "    BED = BED[1]\n",
    "    ICU = ICU[1]\n",
    "    \n",
    "    r₀, tₗ, tᵢ, tₕ, tᵤ, γₑ, γᵢ, γⱼ, γₖ, δₖ, δₗ, δᵤ, startDays = params \n",
    "    \n",
    "    \n",
    "    ####################################\n",
    "    # Arrows reflecting epidemiology - Check signs (just in case)\n",
    "    EI = ones(nAgeGroup) .* E / tₗ;  EI = max.(EI, 0.0); IE = -EI; \n",
    "    IJ = mₐ              .* I / tᵢ;  IJ = max.(IJ, 0.0); JI = -IJ\n",
    "    JK = cₐ              .* J / tₕ;  JK = max.(JK, 0.0); KJ = -JK\n",
    "    HL = cₐ              .* H / tₕ;  HL = max.(HL, 0.0); LH = -HL\n",
    "    \n",
    "    # Recovery arrows\n",
    "    IR = (1 .- mₐ)       .* I / tᵢ;  IR = max.(IR, 0.0); RI = -IR\n",
    "    JR = (1 .- cₐ)       .* J / tₕ;  JR = max.(JR, 0.0); RJ = -JR\n",
    "    HR = (1 .- cₐ)       .* H / tₕ;  HR = max.(HR, 0.0); RH = -HR\n",
    "    KR = (1 .- δₖ .* fₐ) .* K / tᵤ;  KR = max.(KR, 0.0); RK = -KR\n",
    "    LR = (1 .- δₗ .* fₐ) .* L / tᵤ;  LR = max.(LR, 0.0); RL = -LR\n",
    "    CR = (1 .- δᵤ .* fₐ) .* C / tᵤ;  CR = max.(CR, 0.0); RC = -CR\n",
    "    \n",
    "    # Deaths\n",
    "    KD = δₖ .* fₐ        .* K / tᵤ;  KD = max.(KD, 0.0); DK = -KD\n",
    "    LD = δₗ .* fₐ        .* L / tᵤ;  LD = max.(LD, 0.0); DL = -LD\n",
    "    CD = δᵤ .* fₐ        .* C / tᵤ;  CD = max.(CD, 0.0); DC = -CD\n",
    "    \n",
    "    \n",
    "    ####################################\n",
    "    # Bed transfers\n",
    "    \n",
    "    ####### Step 1:\n",
    "    # Decrease in bed usage is (recall that CD and CR are vectors over the age groups) \n",
    "    dICU = - (sum(CD) + sum(CR));                 dICU = ensurePositive(dICU, ICU)\n",
    "    \n",
    "    # ICU beds available\n",
    "    ICU_free = ICU_max - (ICU + dICU)\n",
    "    \n",
    "    # Move as many patients as possible from $L$ to $C$ in proportion of each group\n",
    "    ICU_transfer = min(sum(L), ICU_free)\n",
    "    LC = ICU_transfer / sum(L) .* L;    CL = -LC\n",
    "    \n",
    "    # Overall change in ICU bed becomes\n",
    "    dICU = dICU + ICU_transfer;                   dICU = ensurePositive(dICU, ICU)\n",
    "    \n",
    "    # And some normal beds are freed\n",
    "    dBED = -ICU_transfer;                         dBED = ensurePositive(dBED, BED)\n",
    "    #print(\" dBed step 1 \"); println(floor.(sum(dBED)))\n",
    "\n",
    "    ####### Step 2:\n",
    "    # Beds available\n",
    "    BED_free = BED_max - (BED + dBED)\n",
    "    \n",
    "    # Move as many patients as possible from $K$ to $L$ in proportion of each group\n",
    "    BED_transfer = min(sum(K), BED_free)\n",
    "    KL = BED_transfer / sum(K) .* K;   LK = -KL\n",
    "    \n",
    "    # Overall change in normal bed becomes\n",
    "    dBED = dBED + BED_transfer;                   dBED = ensurePositive(dBED, BED)\n",
    "    #print(\" dBed step 2 \"); println(floor.(sum(dBED)))\n",
    "    \n",
    "\n",
    "    ####### Step 3:\n",
    "    # Beds available\n",
    "    BED_free = BED_max - (BED + dBED)\n",
    "    \n",
    "    # Move as many patients as possible from $J$ to $H$ in proportion of each group\n",
    "    BED_transfer = min(sum(J), BED_free)\n",
    "    JH = BED_transfer / sum(J) .* J;   HJ = -JH \n",
    "    \n",
    "    # Overall change in ICU bed becomes\n",
    "    dBED = dBED + BED_transfer;                   dBED = ensurePositive(dBED, BED)\n",
    "    #print(\" dBed step 3 \"); println(floor.(sum(dBED)))\n",
    "    \n",
    "\n",
    "    ####################################\n",
    "    # Sum of all flows + Check never negative compartment\n",
    "    \n",
    "    # Susceptible    \n",
    "    # Calculation of β\n",
    "    β = getCurrentRatio(t; start = BASE_DAYS, schedule = mitigationRatio) .* zₐ .* \n",
    "        R₀(t; r_0 = r₀, latitude = Latitude, severity = SeverityLevel)\n",
    "    \n",
    "    #print(\"r₀\"); println(r₀); println(\"R₀\"); \n",
    "    #println(R₀(t; r_0 = r₀, latitude = Latitude, severity = SeverityLevel)); print()\n",
    "    \n",
    "    dS = -β .* (γₑ.*E + γᵢ.*I + γⱼ.*J + γₖ.*K);   dS = min.(-0.01, dS); dS = ensurePositive(dS, S)\n",
    "    \n",
    "    #print(\"dS\"); println(floor.(dS)); println(); \n",
    "    \n",
    "    # Exposed\n",
    "    dE = -dS + IE;                                dE = ensurePositive(dE, E)\n",
    "    \n",
    "    # Infected. \n",
    "    dI = EI + JI + RI;                            dI = ensurePositive(dI, I)\n",
    "    \n",
    "    # Infected no hospital\n",
    "    dJ = IJ + HJ + KJ + RJ;                       dJ = ensurePositive(dJ, J)\n",
    "    \n",
    "    #print(\"I \"); println(floor.(IJ)); print(\"H \"); println(floor.(HJ))\n",
    "    #print(\"K \"); println(floor.(KJ)); print(\"R \"); println(floor.(RJ))\n",
    "    \n",
    "    # Infected in hospital\n",
    "    dH = JH + LH + RH ;                           dH = ensurePositive(dH, H)\n",
    "    \n",
    "    # Critical no hospital\n",
    "    dK = JK + LK + DK + RK;                       dK = ensurePositive(dK, K)\n",
    "    \n",
    "    # Critical in hospital\n",
    "    dL = KL + HL + CL + DL + RL;                  dL = ensurePositive(dL, L)\n",
    "    \n",
    "    # Critical in ICU\n",
    "    dC = LC + DC + RC;                            dC = ensurePositive(dC, C)\n",
    "    \n",
    "    # Recovery (can only increase)\n",
    "    dR = IR + JR + HR + KR + LR + CR;             dR = max.(dR, 0.01)\n",
    "    \n",
    "    # Dead (can only increase)\n",
    "    dD = KD + LD + CD;                            dD = max.(dD, 0.01)\n",
    "    \n",
    "    # Vector change of population and update in place\n",
    "    result = vcat(dS, dE, dI, dJ, dH, dC, dR, dD, dK, dL, [dBED], [dICU])\n",
    "    #print(\" dS \"); print(floor.(sum(dS))); print(\" dE \"); print(floor.(sum(dE))); \n",
    "    #print(\" dI \"); print(floor.(sum(dI))); print(\" dJ \"); println(floor.(sum(dJ))); \n",
    "    #print(\" dH \"); print(floor.(sum(dH))); print(\" dC \"); print(floor.(sum(dC))); \n",
    "    #print(\" dR \"); print(floor.(sum(dR))); print(\" dD \"); print(floor.(sum(dD))); \n",
    "    #print(\" dK \"); print(floor.(sum(dK))); print(\" dL \"); println(floor.(sum(dL))); println(); \n",
    "    for i = 1:length(result)\n",
    "        dP[i] = result[i]\n",
    "    end\n",
    "\n",
    "end\n",
    "\n"
   ]
  },
  {
   "cell_type": "markdown",
   "metadata": {},
   "source": [
    "# Load data"
   ]
  },
  {
   "cell_type": "markdown",
   "metadata": {},
   "source": [
    "The data comes from Neherlab's data repository on [Github](https://github.com/neherlab/covid19_scenarios_data)."
   ]
  },
  {
   "cell_type": "code",
   "execution_count": 17,
   "metadata": {},
   "outputs": [],
   "source": [
    "# Adjust as necessary. The data lives in a data/ folder below this.\n",
    "cd(\"$(homedir())/Development/git/COVID19/COVID-19-Julia\")"
   ]
  },
  {
   "cell_type": "markdown",
   "metadata": {},
   "source": [
    "We will use Italy as an example"
   ]
  },
  {
   "cell_type": "code",
   "execution_count": 18,
   "metadata": {},
   "outputs": [
    {
     "data": {
      "text/plain": [
       "\"Italy\""
      ]
     },
     "execution_count": 18,
     "metadata": {},
     "output_type": "execute_result"
    }
   ],
   "source": [
    "country = \"Italy\""
   ]
  },
  {
   "cell_type": "code",
   "execution_count": 19,
   "metadata": {},
   "outputs": [
    {
     "data": {
      "text/html": [
       "<table class=\"data-frame\"><thead><tr><th></th><th>name</th><th>populationServed</th><th>ageDistribution</th><th>hospitalBeds</th><th>ICUBeds</th><th>suspectedCaseMarch1st</th></tr><tr><th></th><th>String</th><th>Int64</th><th>String</th><th>Int64</th><th>Int64</th><th>Int64</th></tr></thead><tbody><p>1 rows × 7 columns (omitted printing of 1 columns)</p><tr><th>1</th><td>Italy</td><td>60462000</td><td>Italy</td><td>165384</td><td>7550</td><td>225600</td></tr></tbody></table>"
      ],
      "text/latex": [
       "\\begin{tabular}{r|ccccccc}\n",
       "\t& name & populationServed & ageDistribution & hospitalBeds & ICUBeds & suspectedCaseMarch1st & \\\\\n",
       "\t\\hline\n",
       "\t& String & Int64 & String & Int64 & Int64 & Int64 & \\\\\n",
       "\t\\hline\n",
       "\t1 & Italy & 60462000 & Italy & 165384 & 7550 & 225600 & $\\dots$ \\\\\n",
       "\\end{tabular}\n"
      ],
      "text/plain": [
       "1×7 DataFrame. Omitted printing of 2 columns\n",
       "│ Row │ name   │ populationServed │ ageDistribution │ hospitalBeds │ ICUBeds │\n",
       "│     │ \u001b[90mString\u001b[39m │ \u001b[90mInt64\u001b[39m            │ \u001b[90mString\u001b[39m          │ \u001b[90mInt64\u001b[39m        │ \u001b[90mInt64\u001b[39m   │\n",
       "├─────┼────────┼──────────────────┼─────────────────┼──────────────┼─────────┤\n",
       "│ 1   │ Italy  │ 60462000         │ Italy           │ 165384       │ 7550    │"
      ]
     },
     "execution_count": 19,
     "metadata": {},
     "output_type": "execute_result"
    }
   ],
   "source": [
    "populationData = DataFrame(CSV.read(\"data/populationData.tsv\"))\n",
    "populationData = @where(populationData, occursin.(country, :name)) \n",
    "first(populationData, 6)"
   ]
  },
  {
   "cell_type": "markdown",
   "metadata": {},
   "source": [
    "This file contains a record of cases day by day."
   ]
  },
  {
   "cell_type": "code",
   "execution_count": 20,
   "metadata": {},
   "outputs": [
    {
     "data": {
      "text/html": [
       "<table class=\"data-frame\"><thead><tr><th></th><th>t</th><th>location</th><th>time</th><th>cases</th><th>deaths</th><th>hospitalized</th><th>ICU</th><th>recovered</th></tr><tr><th></th><th>Float64</th><th>String</th><th>Date</th><th>Int64</th><th>Int64</th><th>Missing</th><th>Missing</th><th>Missing</th></tr></thead><tbody><p>6 rows × 8 columns</p><tr><th>1</th><td>16.0</td><td>Italy</td><td>2020-03-17</td><td>27980</td><td>2158</td><td>missing</td><td>missing</td><td>missing</td></tr><tr><th>2</th><td>17.0</td><td>Italy</td><td>2020-03-18</td><td>31506</td><td>2505</td><td>missing</td><td>missing</td><td>missing</td></tr><tr><th>3</th><td>18.0</td><td>Italy</td><td>2020-03-19</td><td>35713</td><td>2978</td><td>missing</td><td>missing</td><td>missing</td></tr><tr><th>4</th><td>19.0</td><td>Italy</td><td>2020-03-20</td><td>41035</td><td>3407</td><td>missing</td><td>missing</td><td>missing</td></tr><tr><th>5</th><td>20.0</td><td>Italy</td><td>2020-03-21</td><td>47021</td><td>4032</td><td>missing</td><td>missing</td><td>missing</td></tr><tr><th>6</th><td>21.0</td><td>Italy</td><td>2020-03-22</td><td>53578</td><td>4827</td><td>missing</td><td>missing</td><td>missing</td></tr></tbody></table>"
      ],
      "text/latex": [
       "\\begin{tabular}{r|cccccccc}\n",
       "\t& t & location & time & cases & deaths & hospitalized & ICU & recovered\\\\\n",
       "\t\\hline\n",
       "\t& Float64 & String & Date & Int64 & Int64 & Missing & Missing & Missing\\\\\n",
       "\t\\hline\n",
       "\t1 & 16.0 & Italy & 2020-03-17 & 27980 & 2158 &  &  &  \\\\\n",
       "\t2 & 17.0 & Italy & 2020-03-18 & 31506 & 2505 &  &  &  \\\\\n",
       "\t3 & 18.0 & Italy & 2020-03-19 & 35713 & 2978 &  &  &  \\\\\n",
       "\t4 & 19.0 & Italy & 2020-03-20 & 41035 & 3407 &  &  &  \\\\\n",
       "\t5 & 20.0 & Italy & 2020-03-21 & 47021 & 4032 &  &  &  \\\\\n",
       "\t6 & 21.0 & Italy & 2020-03-22 & 53578 & 4827 &  &  &  \\\\\n",
       "\\end{tabular}\n"
      ],
      "text/plain": [
       "6×8 DataFrame. Omitted printing of 2 columns\n",
       "│ Row │ t       │ location │ time       │ cases │ deaths │ hospitalized │\n",
       "│     │ \u001b[90mFloat64\u001b[39m │ \u001b[90mString\u001b[39m   │ \u001b[90mDate\u001b[39m       │ \u001b[90mInt64\u001b[39m │ \u001b[90mInt64\u001b[39m  │ \u001b[90mMissing\u001b[39m      │\n",
       "├─────┼─────────┼──────────┼────────────┼───────┼────────┼──────────────┤\n",
       "│ 1   │ 16.0    │ Italy    │ 2020-03-17 │ 27980 │ 2158   │ \u001b[90mmissing\u001b[39m      │\n",
       "│ 2   │ 17.0    │ Italy    │ 2020-03-18 │ 31506 │ 2505   │ \u001b[90mmissing\u001b[39m      │\n",
       "│ 3   │ 18.0    │ Italy    │ 2020-03-19 │ 35713 │ 2978   │ \u001b[90mmissing\u001b[39m      │\n",
       "│ 4   │ 19.0    │ Italy    │ 2020-03-20 │ 41035 │ 3407   │ \u001b[90mmissing\u001b[39m      │\n",
       "│ 5   │ 20.0    │ Italy    │ 2020-03-21 │ 47021 │ 4032   │ \u001b[90mmissing\u001b[39m      │\n",
       "│ 6   │ 21.0    │ Italy    │ 2020-03-22 │ 53578 │ 4827   │ \u001b[90mmissing\u001b[39m      │"
      ]
     },
     "execution_count": 20,
     "metadata": {},
     "output_type": "execute_result"
    }
   ],
   "source": [
    "cases = DataFrame(CSV.read(\"data/World.tsv\", header = 4))\n",
    "cases = @where(cases, occursin.(country, :location)) \n",
    "sort!(cases, :time)\n",
    "\n",
    "# Add a time column in the same format as the other dataframes\n",
    "cases = hcat(DataFrame(t = date2days.(cases[:, :time])), cases)\n",
    "\n",
    "last(cases, 6)"
   ]
  },
  {
   "cell_type": "markdown",
   "metadata": {},
   "source": [
    "Plotting the number of death shows an almost exponential increase in numbers (straight lin in logarithmic scale)."
   ]
  },
  {
   "cell_type": "code",
   "execution_count": 21,
   "metadata": {},
   "outputs": [
    {
     "data": {
      "image/svg+xml": [
       "<?xml version=\"1.0\" encoding=\"utf-8\"?>\n",
       "<svg xmlns=\"http://www.w3.org/2000/svg\" xmlns:xlink=\"http://www.w3.org/1999/xlink\" width=\"600\" height=\"400\" viewBox=\"0 0 2400 1600\">\n",
       "<defs>\n",
       "  <clipPath id=\"clip5100\">\n",
       "    <rect x=\"0\" y=\"0\" width=\"2400\" height=\"1600\"/>\n",
       "  </clipPath>\n",
       "</defs>\n",
       "<path clip-path=\"url(#clip5100)\" d=\"\n",
       "M0 1600 L2400 1600 L2400 0 L0 0  Z\n",
       "  \" fill=\"#ffffff\" fill-rule=\"evenodd\" fill-opacity=\"1\"/>\n",
       "<defs>\n",
       "  <clipPath id=\"clip5101\">\n",
       "    <rect x=\"480\" y=\"0\" width=\"1681\" height=\"1600\"/>\n",
       "  </clipPath>\n",
       "</defs>\n",
       "<path clip-path=\"url(#clip5100)\" d=\"\n",
       "M229.997 1487.47 L2352.76 1487.47 L2352.76 121.675 L229.997 121.675  Z\n",
       "  \" fill=\"#ffffff\" fill-rule=\"evenodd\" fill-opacity=\"1\"/>\n",
       "<defs>\n",
       "  <clipPath id=\"clip5102\">\n",
       "    <rect x=\"229\" y=\"121\" width=\"2124\" height=\"1367\"/>\n",
       "  </clipPath>\n",
       "</defs>\n",
       "<polyline clip-path=\"url(#clip5102)\" style=\"stroke:#000000; stroke-width:2; stroke-opacity:0.1; fill:none\" points=\"\n",
       "  290.075,1487.47 290.075,121.675 \n",
       "  \"/>\n",
       "<polyline clip-path=\"url(#clip5102)\" style=\"stroke:#000000; stroke-width:2; stroke-opacity:0.1; fill:none\" points=\"\n",
       "  790.726,1487.47 790.726,121.675 \n",
       "  \"/>\n",
       "<polyline clip-path=\"url(#clip5102)\" style=\"stroke:#000000; stroke-width:2; stroke-opacity:0.1; fill:none\" points=\"\n",
       "  1291.38,1487.47 1291.38,121.675 \n",
       "  \"/>\n",
       "<polyline clip-path=\"url(#clip5102)\" style=\"stroke:#000000; stroke-width:2; stroke-opacity:0.1; fill:none\" points=\"\n",
       "  1792.03,1487.47 1792.03,121.675 \n",
       "  \"/>\n",
       "<polyline clip-path=\"url(#clip5102)\" style=\"stroke:#000000; stroke-width:2; stroke-opacity:0.1; fill:none\" points=\"\n",
       "  2292.68,1487.47 2292.68,121.675 \n",
       "  \"/>\n",
       "<polyline clip-path=\"url(#clip5102)\" style=\"stroke:#000000; stroke-width:2; stroke-opacity:0.1; fill:none\" points=\"\n",
       "  229.997,1373.03 2352.76,1373.03 \n",
       "  \"/>\n",
       "<polyline clip-path=\"url(#clip5102)\" style=\"stroke:#000000; stroke-width:2; stroke-opacity:0.1; fill:none\" points=\"\n",
       "  229.997,1182.57 2352.76,1182.57 \n",
       "  \"/>\n",
       "<polyline clip-path=\"url(#clip5102)\" style=\"stroke:#000000; stroke-width:2; stroke-opacity:0.1; fill:none\" points=\"\n",
       "  229.997,992.118 2352.76,992.118 \n",
       "  \"/>\n",
       "<polyline clip-path=\"url(#clip5102)\" style=\"stroke:#000000; stroke-width:2; stroke-opacity:0.1; fill:none\" points=\"\n",
       "  229.997,801.662 2352.76,801.662 \n",
       "  \"/>\n",
       "<polyline clip-path=\"url(#clip5102)\" style=\"stroke:#000000; stroke-width:2; stroke-opacity:0.1; fill:none\" points=\"\n",
       "  229.997,611.206 2352.76,611.206 \n",
       "  \"/>\n",
       "<polyline clip-path=\"url(#clip5102)\" style=\"stroke:#000000; stroke-width:2; stroke-opacity:0.1; fill:none\" points=\"\n",
       "  229.997,420.751 2352.76,420.751 \n",
       "  \"/>\n",
       "<polyline clip-path=\"url(#clip5102)\" style=\"stroke:#000000; stroke-width:2; stroke-opacity:0.1; fill:none\" points=\"\n",
       "  229.997,230.295 2352.76,230.295 \n",
       "  \"/>\n",
       "<polyline clip-path=\"url(#clip5100)\" style=\"stroke:#000000; stroke-width:4; stroke-opacity:1; fill:none\" points=\"\n",
       "  229.997,1487.47 2352.76,1487.47 \n",
       "  \"/>\n",
       "<polyline clip-path=\"url(#clip5100)\" style=\"stroke:#000000; stroke-width:4; stroke-opacity:1; fill:none\" points=\"\n",
       "  229.997,1487.47 229.997,121.675 \n",
       "  \"/>\n",
       "<polyline clip-path=\"url(#clip5100)\" style=\"stroke:#000000; stroke-width:4; stroke-opacity:1; fill:none\" points=\"\n",
       "  290.075,1487.47 290.075,1471.09 \n",
       "  \"/>\n",
       "<polyline clip-path=\"url(#clip5100)\" style=\"stroke:#000000; stroke-width:4; stroke-opacity:1; fill:none\" points=\"\n",
       "  790.726,1487.47 790.726,1471.09 \n",
       "  \"/>\n",
       "<polyline clip-path=\"url(#clip5100)\" style=\"stroke:#000000; stroke-width:4; stroke-opacity:1; fill:none\" points=\"\n",
       "  1291.38,1487.47 1291.38,1471.09 \n",
       "  \"/>\n",
       "<polyline clip-path=\"url(#clip5100)\" style=\"stroke:#000000; stroke-width:4; stroke-opacity:1; fill:none\" points=\"\n",
       "  1792.03,1487.47 1792.03,1471.09 \n",
       "  \"/>\n",
       "<polyline clip-path=\"url(#clip5100)\" style=\"stroke:#000000; stroke-width:4; stroke-opacity:1; fill:none\" points=\"\n",
       "  2292.68,1487.47 2292.68,1471.09 \n",
       "  \"/>\n",
       "<polyline clip-path=\"url(#clip5100)\" style=\"stroke:#000000; stroke-width:4; stroke-opacity:1; fill:none\" points=\"\n",
       "  229.997,1373.03 255.47,1373.03 \n",
       "  \"/>\n",
       "<polyline clip-path=\"url(#clip5100)\" style=\"stroke:#000000; stroke-width:4; stroke-opacity:1; fill:none\" points=\"\n",
       "  229.997,1182.57 255.47,1182.57 \n",
       "  \"/>\n",
       "<polyline clip-path=\"url(#clip5100)\" style=\"stroke:#000000; stroke-width:4; stroke-opacity:1; fill:none\" points=\"\n",
       "  229.997,992.118 255.47,992.118 \n",
       "  \"/>\n",
       "<polyline clip-path=\"url(#clip5100)\" style=\"stroke:#000000; stroke-width:4; stroke-opacity:1; fill:none\" points=\"\n",
       "  229.997,801.662 255.47,801.662 \n",
       "  \"/>\n",
       "<polyline clip-path=\"url(#clip5100)\" style=\"stroke:#000000; stroke-width:4; stroke-opacity:1; fill:none\" points=\"\n",
       "  229.997,611.206 255.47,611.206 \n",
       "  \"/>\n",
       "<polyline clip-path=\"url(#clip5100)\" style=\"stroke:#000000; stroke-width:4; stroke-opacity:1; fill:none\" points=\"\n",
       "  229.997,420.751 255.47,420.751 \n",
       "  \"/>\n",
       "<polyline clip-path=\"url(#clip5100)\" style=\"stroke:#000000; stroke-width:4; stroke-opacity:1; fill:none\" points=\"\n",
       "  229.997,230.295 255.47,230.295 \n",
       "  \"/>\n",
       "<g clip-path=\"url(#clip5100)\">\n",
       "<text style=\"fill:#000000; fill-opacity:1; font-family:Arial,Helvetica Neue,Helvetica,sans-serif; font-size:48px; text-anchor:middle;\" transform=\"rotate(0, 290.075, 1541.47)\" x=\"290.075\" y=\"1541.47\">2020-02-23</text>\n",
       "</g>\n",
       "<g clip-path=\"url(#clip5100)\">\n",
       "<text style=\"fill:#000000; fill-opacity:1; font-family:Arial,Helvetica Neue,Helvetica,sans-serif; font-size:48px; text-anchor:middle;\" transform=\"rotate(0, 790.726, 1541.47)\" x=\"790.726\" y=\"1541.47\">2020-03-01</text>\n",
       "</g>\n",
       "<g clip-path=\"url(#clip5100)\">\n",
       "<text style=\"fill:#000000; fill-opacity:1; font-family:Arial,Helvetica Neue,Helvetica,sans-serif; font-size:48px; text-anchor:middle;\" transform=\"rotate(0, 1291.38, 1541.47)\" x=\"1291.38\" y=\"1541.47\">2020-03-08</text>\n",
       "</g>\n",
       "<g clip-path=\"url(#clip5100)\">\n",
       "<text style=\"fill:#000000; fill-opacity:1; font-family:Arial,Helvetica Neue,Helvetica,sans-serif; font-size:48px; text-anchor:middle;\" transform=\"rotate(0, 1792.03, 1541.47)\" x=\"1792.03\" y=\"1541.47\">2020-03-15</text>\n",
       "</g>\n",
       "<g clip-path=\"url(#clip5100)\">\n",
       "<text style=\"fill:#000000; fill-opacity:1; font-family:Arial,Helvetica Neue,Helvetica,sans-serif; font-size:48px; text-anchor:middle;\" transform=\"rotate(0, 2292.68, 1541.47)\" x=\"2292.68\" y=\"1541.47\">2020-03-22</text>\n",
       "</g>\n",
       "<g clip-path=\"url(#clip5100)\">\n",
       "<text style=\"fill:#000000; fill-opacity:1; font-family:Arial,Helvetica Neue,Helvetica,sans-serif; font-size:48px; text-anchor:start;\" transform=\"rotate(0, 87.2395, 1396.76)\" x=\"87.2395\" y=\"1396.76\">10</text>\n",
       "</g>\n",
       "<g clip-path=\"url(#clip5100)\">\n",
       "<text style=\"fill:#000000; fill-opacity:1; font-family:Arial,Helvetica Neue,Helvetica,sans-serif; font-size:38px; text-anchor:start;\" transform=\"rotate(0, 140.764, 1369.35)\" x=\"140.764\" y=\"1369.35\">0.5 </text>\n",
       "</g>\n",
       "<g clip-path=\"url(#clip5100)\">\n",
       "<text style=\"fill:#000000; fill-opacity:1; font-family:Arial,Helvetica Neue,Helvetica,sans-serif; font-size:48px; text-anchor:start;\" transform=\"rotate(0, 87.2395, 1206.3)\" x=\"87.2395\" y=\"1206.3\">10</text>\n",
       "</g>\n",
       "<g clip-path=\"url(#clip5100)\">\n",
       "<text style=\"fill:#000000; fill-opacity:1; font-family:Arial,Helvetica Neue,Helvetica,sans-serif; font-size:38px; text-anchor:start;\" transform=\"rotate(0, 140.764, 1178.89)\" x=\"140.764\" y=\"1178.89\">1.0 </text>\n",
       "</g>\n",
       "<g clip-path=\"url(#clip5100)\">\n",
       "<text style=\"fill:#000000; fill-opacity:1; font-family:Arial,Helvetica Neue,Helvetica,sans-serif; font-size:48px; text-anchor:start;\" transform=\"rotate(0, 87.2395, 1015.85)\" x=\"87.2395\" y=\"1015.85\">10</text>\n",
       "</g>\n",
       "<g clip-path=\"url(#clip5100)\">\n",
       "<text style=\"fill:#000000; fill-opacity:1; font-family:Arial,Helvetica Neue,Helvetica,sans-serif; font-size:38px; text-anchor:start;\" transform=\"rotate(0, 140.764, 988.435)\" x=\"140.764\" y=\"988.435\">1.5 </text>\n",
       "</g>\n",
       "<g clip-path=\"url(#clip5100)\">\n",
       "<text style=\"fill:#000000; fill-opacity:1; font-family:Arial,Helvetica Neue,Helvetica,sans-serif; font-size:48px; text-anchor:start;\" transform=\"rotate(0, 87.2395, 825.39)\" x=\"87.2395\" y=\"825.39\">10</text>\n",
       "</g>\n",
       "<g clip-path=\"url(#clip5100)\">\n",
       "<text style=\"fill:#000000; fill-opacity:1; font-family:Arial,Helvetica Neue,Helvetica,sans-serif; font-size:38px; text-anchor:start;\" transform=\"rotate(0, 140.764, 797.98)\" x=\"140.764\" y=\"797.98\">2.0 </text>\n",
       "</g>\n",
       "<g clip-path=\"url(#clip5100)\">\n",
       "<text style=\"fill:#000000; fill-opacity:1; font-family:Arial,Helvetica Neue,Helvetica,sans-serif; font-size:48px; text-anchor:start;\" transform=\"rotate(0, 87.2395, 634.934)\" x=\"87.2395\" y=\"634.934\">10</text>\n",
       "</g>\n",
       "<g clip-path=\"url(#clip5100)\">\n",
       "<text style=\"fill:#000000; fill-opacity:1; font-family:Arial,Helvetica Neue,Helvetica,sans-serif; font-size:38px; text-anchor:start;\" transform=\"rotate(0, 140.764, 607.524)\" x=\"140.764\" y=\"607.524\">2.5 </text>\n",
       "</g>\n",
       "<g clip-path=\"url(#clip5100)\">\n",
       "<text style=\"fill:#000000; fill-opacity:1; font-family:Arial,Helvetica Neue,Helvetica,sans-serif; font-size:48px; text-anchor:start;\" transform=\"rotate(0, 87.2395, 444.478)\" x=\"87.2395\" y=\"444.478\">10</text>\n",
       "</g>\n",
       "<g clip-path=\"url(#clip5100)\">\n",
       "<text style=\"fill:#000000; fill-opacity:1; font-family:Arial,Helvetica Neue,Helvetica,sans-serif; font-size:38px; text-anchor:start;\" transform=\"rotate(0, 140.764, 417.068)\" x=\"140.764\" y=\"417.068\">3.0 </text>\n",
       "</g>\n",
       "<g clip-path=\"url(#clip5100)\">\n",
       "<text style=\"fill:#000000; fill-opacity:1; font-family:Arial,Helvetica Neue,Helvetica,sans-serif; font-size:48px; text-anchor:start;\" transform=\"rotate(0, 87.2395, 254.022)\" x=\"87.2395\" y=\"254.022\">10</text>\n",
       "</g>\n",
       "<g clip-path=\"url(#clip5100)\">\n",
       "<text style=\"fill:#000000; fill-opacity:1; font-family:Arial,Helvetica Neue,Helvetica,sans-serif; font-size:38px; text-anchor:start;\" transform=\"rotate(0, 140.764, 226.612)\" x=\"140.764\" y=\"226.612\">3.5 </text>\n",
       "</g>\n",
       "<g clip-path=\"url(#clip5100)\">\n",
       "<text style=\"fill:#000000; fill-opacity:1; font-family:Arial,Helvetica Neue,Helvetica,sans-serif; font-size:84px; text-anchor:middle;\" transform=\"rotate(0, 1291.38, 73.2)\" x=\"1291.38\" y=\"73.2\">Increase in deaths ()log scale</text>\n",
       "</g>\n",
       "<polyline clip-path=\"url(#clip5102)\" style=\"stroke:#009af9; stroke-width:4; stroke-opacity:1; fill:none\" points=\"\n",
       "  290.075,1448.82 361.597,1448.82 433.118,1267.08 504.64,1166.81 576.161,1152.41 647.683,1094.79 719.205,1059.84 790.726,1006.44 862.248,975.332 933.769,909.84 \n",
       "  1005.29,838.577 1076.81,790.47 1148.33,736.808 1219.86,689.497 1291.38,661.732 1362.9,587.026 1434.42,547.778 1505.94,496.922 1577.46,452.174 1648.98,418.125 \n",
       "  1720.51,381.471 1792.03,360.314 1863.55,322.506 1935.07,293.506 2006.59,268.84 2078.11,240.227 2149.63,217.964 2221.16,190.101 2292.68,160.33 \n",
       "  \"/>\n",
       "<path clip-path=\"url(#clip5100)\" d=\"\n",
       "M1888.27 1343.47 L2280.76 1343.47 L2280.76 1222.51 L1888.27 1222.51  Z\n",
       "  \" fill=\"#ffffff\" fill-rule=\"evenodd\" fill-opacity=\"1\"/>\n",
       "<polyline clip-path=\"url(#clip5100)\" style=\"stroke:#000000; stroke-width:4; stroke-opacity:1; fill:none\" points=\"\n",
       "  1888.27,1343.47 2280.76,1343.47 2280.76,1222.51 1888.27,1222.51 1888.27,1343.47 \n",
       "  \"/>\n",
       "<polyline clip-path=\"url(#clip5100)\" style=\"stroke:#009af9; stroke-width:4; stroke-opacity:1; fill:none\" points=\"\n",
       "  1912.27,1282.99 2056.27,1282.99 \n",
       "  \"/>\n",
       "<g clip-path=\"url(#clip5100)\">\n",
       "<text style=\"fill:#000000; fill-opacity:1; font-family:Arial,Helvetica Neue,Helvetica,sans-serif; font-size:48px; text-anchor:start;\" transform=\"rotate(0, 2080.27, 1300.49)\" x=\"2080.27\" y=\"1300.49\">Deaths</text>\n",
       "</g>\n",
       "</svg>\n"
      ]
     },
     "execution_count": 21,
     "metadata": {},
     "output_type": "execute_result"
    }
   ],
   "source": [
    "@df @where(cases, :deaths .> 0.0) plot(:time, :deaths, title = \"Increase in deaths ()log scale\", label = \"Deaths\", legend = :bottomright)\n",
    "plot!(yaxis = (:log10))"
   ]
  },
  {
   "cell_type": "markdown",
   "metadata": {},
   "source": [
    "This file contains ICU beds figures."
   ]
  },
  {
   "cell_type": "code",
   "execution_count": 22,
   "metadata": {},
   "outputs": [
    {
     "name": "stdout",
     "output_type": "stream",
     "text": [
      "thread = 1 warning: only found 6 / 9 columns on data row: 32. Filling remaining columns with `missing`\n"
     ]
    },
    {
     "data": {
      "text/plain": [
       "7550.0"
      ]
     },
     "execution_count": 22,
     "metadata": {},
     "output_type": "execute_result"
    }
   ],
   "source": [
    "ICU_capacity = select(CSV.read(\"data/ICU_capacity.tsv\"; delim = \"\\t\"), :country, :CriticalCare)\n",
    "ICU_capacity = @where(ICU_capacity, occursin.(country, :country))[!, :CriticalCare][1]\n",
    "ICU_capacity = convert(Float64, ICU_capacity)"
   ]
  },
  {
   "cell_type": "markdown",
   "metadata": {},
   "source": [
    "Country codes are necessary to load the another file."
   ]
  },
  {
   "cell_type": "code",
   "execution_count": 23,
   "metadata": {},
   "outputs": [
    {
     "name": "stdout",
     "output_type": "stream",
     "text": [
      "thread = 1 warning: only found 10 / 11 columns on data row: 121. Filling remaining columns with `missing`\n"
     ]
    },
    {
     "data": {
      "text/plain": [
       "\"ITA\""
      ]
     },
     "execution_count": 23,
     "metadata": {},
     "output_type": "execute_result"
    }
   ],
   "source": [
    "country_codes = select(CSV.read(\"data/country_codes.csv\"), :name, Symbol(\"alpha-3\"))\n",
    "country_codes = @where(country_codes, occursin.(country, :name))\n",
    "countryShort = country_codes[:, Symbol(\"alpha-3\")][1]"
   ]
  },
  {
   "cell_type": "markdown",
   "metadata": {},
   "source": [
    "This file contains hospital beds figures."
   ]
  },
  {
   "cell_type": "code",
   "execution_count": 24,
   "metadata": {},
   "outputs": [
    {
     "data": {
      "text/plain": [
       "165384.0"
      ]
     },
     "execution_count": 24,
     "metadata": {},
     "output_type": "execute_result"
    }
   ],
   "source": [
    "hospital_capacity = select(CSV.read(\"data/hospital_capacity.csv\", types = Dict(:COUNTRY => String), limit = 1267), :COUNTRY, :YEAR, :VALUE)\n",
    "hospital_capacity = @where(hospital_capacity, Not(ismissing.(:COUNTRY)))\n",
    "hospital_capacity = last(@where(hospital_capacity, occursin.(countryShort, :COUNTRY)), 1)[!, :VALUE][1]\n",
    "hospital_capacity = convert(Float64, hospital_capacity)"
   ]
  },
  {
   "cell_type": "markdown",
   "metadata": {},
   "source": [
    "This file contains a distribution of the population in age groups."
   ]
  },
  {
   "cell_type": "code",
   "execution_count": 25,
   "metadata": {},
   "outputs": [
    {
     "name": "stdout",
     "output_type": "stream",
     "text": [
      "[4994996 5733447 6103437 6998434 9022004 9567192 7484860 6028907 4528548]"
     ]
    }
   ],
   "source": [
    "age_distribution = CSV.read(\"data/country_age_distribution.csv\")\n",
    "age_distribution = @where(age_distribution, occursin.(country, :_key))[!, 2:10]\n",
    "# Convert to simple matrix\n",
    "age_distribution = Matrix(age_distribution)\n",
    "show(age_distribution)"
   ]
  },
  {
   "cell_type": "markdown",
   "metadata": {},
   "source": [
    "# Initialise parameters"
   ]
  },
  {
   "cell_type": "markdown",
   "metadata": {},
   "source": [
    "## Fixed constants"
   ]
  },
  {
   "cell_type": "code",
   "execution_count": 26,
   "metadata": {},
   "outputs": [],
   "source": [
    "SeverityLevel = :moderate\n",
    "Latitude = :north\n",
    "\n",
    "StartDate = Date(2020, 3, 1)\n",
    "StartDays = date2days(StartDate)\n",
    "\n",
    "EndDate = Date(2020, 9, 1)\n",
    "EndDays = date2days(EndDate)\n",
    "\n",
    "tSpan = (StartDays, EndDays);"
   ]
  },
  {
   "cell_type": "markdown",
   "metadata": {},
   "source": [
    "## Infrastructure"
   ]
  },
  {
   "cell_type": "code",
   "execution_count": 27,
   "metadata": {},
   "outputs": [
    {
     "data": {
      "text/plain": [
       "165384.0"
      ]
     },
     "execution_count": 27,
     "metadata": {},
     "output_type": "execute_result"
    }
   ],
   "source": [
    "BED_max = hospital_capacity"
   ]
  },
  {
   "cell_type": "code",
   "execution_count": 28,
   "metadata": {},
   "outputs": [
    {
     "data": {
      "text/plain": [
       "7550.0"
      ]
     },
     "execution_count": 28,
     "metadata": {},
     "output_type": "execute_result"
    }
   ],
   "source": [
    "ICU_max = ICU_capacity"
   ]
  },
  {
   "cell_type": "markdown",
   "metadata": {},
   "source": [
    "## Parameter vector"
   ]
  },
  {
   "cell_type": "code",
   "execution_count": 29,
   "metadata": {},
   "outputs": [],
   "source": [
    "# r₀, tₗ, tᵢ, tₕ, tᵤ, γᵢ, γⱼ, γₖ, δₖ, δₗ, δᵤ, startDate = params \n",
    "\n",
    "parameters = [  baseR₀[Latitude, SeverityLevel], \n",
    "                tₗ[SeverityLevel], tᵢ[SeverityLevel], tₕ, tᵤ, \n",
    "                γₑ, γᵢ, γⱼ, γₖ, \n",
    "                δₖ, δₗ, δᵤ, \n",
    "                StartDays];"
   ]
  },
  {
   "cell_type": "markdown",
   "metadata": {},
   "source": [
    "## Population"
   ]
  },
  {
   "cell_type": "code",
   "execution_count": 30,
   "metadata": {},
   "outputs": [],
   "source": [
    "Age_Pyramid = transpose(age_distribution)\n",
    "Age_Pyramid_frac = Age_Pyramid / sum(Age_Pyramid);"
   ]
  },
  {
   "cell_type": "markdown",
   "metadata": {},
   "source": [
    "We do not know the number of actual number of infections cases at the start of the model. We only know confirmed cases (almost certainly far below the number of actual infections).\n",
    "\n",
    "We assume that actual infections are 3 time more numerous. "
   ]
  },
  {
   "cell_type": "code",
   "execution_count": 31,
   "metadata": {},
   "outputs": [
    {
     "data": {
      "text/plain": [
       "3384.0"
      ]
     },
     "execution_count": 31,
     "metadata": {},
     "output_type": "execute_result"
    }
   ],
   "source": [
    "DeathsAtStart = @where(cases, :time .== StartDate)[!, :deaths][1]\n",
    "ConfirmedAtStart = @where(cases, :time .== StartDate)[!, :cases][1]\n",
    "EstimatedAtStart = 3.0 * ConfirmedAtStart"
   ]
  },
  {
   "cell_type": "markdown",
   "metadata": {},
   "source": [
    "## Parameters vector"
   ]
  },
  {
   "cell_type": "code",
   "execution_count": 32,
   "metadata": {},
   "outputs": [],
   "source": [
    "# Note that values are inintialised at 1 to avoid division by zero\n",
    "\n",
    "S0 = Age_Pyramid\n",
    "E0 = ones(nAgeGroup)\n",
    "I0 = EstimatedAtStart * Age_Pyramid_frac\n",
    "J0 = ones(nAgeGroup)\n",
    "H0 = ones(nAgeGroup)\n",
    "C0 = ones(nAgeGroup)\n",
    "R0 = ones(nAgeGroup)\n",
    "D0 = DeathsAtStart * Age_Pyramid_frac\n",
    "K0 = ones(nAgeGroup)\n",
    "L0 = ones(nAgeGroup)\n",
    "\n",
    "# Everybody confirmed is in hospital\n",
    "BED = [ConfirmedAtStart]\n",
    "ICU = [1.0]\n",
    "\n",
    "P0 = vcat(S0, E0, I0, J0, H0, C0, R0, D0, K0, L0, BED, ICU)\n",
    "dP = 0 * P0;"
   ]
  },
  {
   "cell_type": "markdown",
   "metadata": {},
   "source": [
    "# Differential equation solver"
   ]
  },
  {
   "cell_type": "code",
   "execution_count": 33,
   "metadata": {},
   "outputs": [],
   "source": [
    "model = ODEProblem(epiDynamics!, P0, tSpan, parameters);"
   ]
  },
  {
   "cell_type": "code",
   "execution_count": 34,
   "metadata": {},
   "outputs": [
    {
     "name": "stderr",
     "output_type": "stream",
     "text": [
      "\u001b[32mODE: 100%|█████████████████████████████████████████| Time: 0:00:03\u001b[39m\n"
     ]
    }
   ],
   "source": [
    "# Note: progress steps might be too quick to see!\n",
    "sol = solve(model, Tsit5(); progress = true, progress_steps = 5);"
   ]
  },
  {
   "cell_type": "code",
   "execution_count": 35,
   "metadata": {},
   "outputs": [],
   "source": [
    "# The solutions are returned as an Array of Arrays: \n",
    "#  - it is a vector of size the number of timesteps\n",
    "#  - each element of the vector is a vector of all the variables\n",
    "nSteps = length(sol.t)\n",
    "nVars  = length(sol.u[1])\n",
    "\n",
    "# Empty dataframe to contain all the numbers\n",
    "# (When running a loop at top-level, the global keywrod is necessary to modify global variables.)\n",
    "solDF = zeros((nSteps, nVars))\n",
    "for i = 1:nSteps\n",
    "    global solDF\n",
    "    solDF[i, :] = sol.u[i]\n",
    "end\n",
    "\n",
    "solDF = hcat(DataFrame(t = sol.t), DataFrame(solDF))\n",
    "\n",
    "# Let's clean the names\n",
    "compartments =  [\"S\", \"E\", \"I\", \"J\", \"H\", \"C\", \"R\", \"D\", \"K\", \"L\"]\n",
    "solnames = vcat([:t], [Symbol(c * repr(n)) for c in compartments for n in 0:(nAgeGroup-1)], [:Beds], [:ICU])\n",
    "rename!(solDF, solnames);\n"
   ]
  },
  {
   "cell_type": "code",
   "execution_count": 36,
   "metadata": {},
   "outputs": [
    {
     "data": {
      "text/html": [
       "<table class=\"data-frame\"><thead><tr><th></th><th>S</th><th>E</th><th>I</th><th>J</th><th>H</th><th>C</th><th>R</th><th>D</th><th>K</th></tr><tr><th></th><th>Float64</th><th>Float64</th><th>Float64</th><th>Float64</th><th>Float64</th><th>Float64</th><th>Float64</th><th>Float64</th><th>Float64</th></tr></thead><tbody><p>10 rows × 10 columns (omitted printing of 1 columns)</p><tr><th>1</th><td>2.33977e7</td><td>346.954</td><td>213.08</td><td>9.64134</td><td>0.900091</td><td>213.604</td><td>3.39105e7</td><td>3.15646e6</td><td>1.11408</td></tr><tr><th>2</th><td>2.33975e7</td><td>341.506</td><td>209.087</td><td>9.41623</td><td>0.900025</td><td>177.886</td><td>3.39107e7</td><td>3.15647e6</td><td>1.10562</td></tr><tr><th>3</th><td>2.33972e7</td><td>336.015</td><td>204.985</td><td>9.19059</td><td>0.900023</td><td>142.242</td><td>3.3911e7</td><td>3.15649e6</td><td>1.09714</td></tr><tr><th>4</th><td>2.3397e7</td><td>331.563</td><td>201.386</td><td>8.9885</td><td>0.900054</td><td>110.574</td><td>3.39113e7</td><td>3.1565e6</td><td>1.08952</td></tr><tr><th>5</th><td>2.33967e7</td><td>329.213</td><td>198.985</td><td>8.83745</td><td>0.900162</td><td>86.0814</td><td>3.39116e7</td><td>3.15651e6</td><td>1.08375</td></tr><tr><th>6</th><td>2.33964e7</td><td>329.205</td><td>197.998</td><td>8.74626</td><td>0.90034</td><td>68.6706</td><td>3.39119e7</td><td>3.15652e6</td><td>1.08017</td></tr><tr><th>7</th><td>2.33962e7</td><td>331.238</td><td>198.26</td><td>8.7075</td><td>0.900438</td><td>56.3625</td><td>3.39121e7</td><td>3.15653e6</td><td>1.0785</td></tr><tr><th>8</th><td>2.3396e7</td><td>335.081</td><td>199.606</td><td>8.71276</td><td>0.900393</td><td>47.3365</td><td>3.39123e7</td><td>3.15653e6</td><td>1.07845</td></tr><tr><th>9</th><td>2.33957e7</td><td>340.754</td><td>202.011</td><td>8.75898</td><td>0.9003</td><td>40.4384</td><td>3.39126e7</td><td>3.15654e6</td><td>1.07987</td></tr><tr><th>10</th><td>2.33957e7</td><td>341.549</td><td>202.367</td><td>8.76715</td><td>0.900203</td><td>39.7342</td><td>3.39126e7</td><td>3.15654e6</td><td>1.08015</td></tr></tbody></table>"
      ],
      "text/latex": [
       "\\begin{tabular}{r|cccccccccc}\n",
       "\t& S & E & I & J & H & C & R & D & K & \\\\\n",
       "\t\\hline\n",
       "\t& Float64 & Float64 & Float64 & Float64 & Float64 & Float64 & Float64 & Float64 & Float64 & \\\\\n",
       "\t\\hline\n",
       "\t1 & 2.33977e7 & 346.954 & 213.08 & 9.64134 & 0.900091 & 213.604 & 3.39105e7 & 3.15646e6 & 1.11408 & $\\dots$ \\\\\n",
       "\t2 & 2.33975e7 & 341.506 & 209.087 & 9.41623 & 0.900025 & 177.886 & 3.39107e7 & 3.15647e6 & 1.10562 & $\\dots$ \\\\\n",
       "\t3 & 2.33972e7 & 336.015 & 204.985 & 9.19059 & 0.900023 & 142.242 & 3.3911e7 & 3.15649e6 & 1.09714 & $\\dots$ \\\\\n",
       "\t4 & 2.3397e7 & 331.563 & 201.386 & 8.9885 & 0.900054 & 110.574 & 3.39113e7 & 3.1565e6 & 1.08952 & $\\dots$ \\\\\n",
       "\t5 & 2.33967e7 & 329.213 & 198.985 & 8.83745 & 0.900162 & 86.0814 & 3.39116e7 & 3.15651e6 & 1.08375 & $\\dots$ \\\\\n",
       "\t6 & 2.33964e7 & 329.205 & 197.998 & 8.74626 & 0.90034 & 68.6706 & 3.39119e7 & 3.15652e6 & 1.08017 & $\\dots$ \\\\\n",
       "\t7 & 2.33962e7 & 331.238 & 198.26 & 8.7075 & 0.900438 & 56.3625 & 3.39121e7 & 3.15653e6 & 1.0785 & $\\dots$ \\\\\n",
       "\t8 & 2.3396e7 & 335.081 & 199.606 & 8.71276 & 0.900393 & 47.3365 & 3.39123e7 & 3.15653e6 & 1.07845 & $\\dots$ \\\\\n",
       "\t9 & 2.33957e7 & 340.754 & 202.011 & 8.75898 & 0.9003 & 40.4384 & 3.39126e7 & 3.15654e6 & 1.07987 & $\\dots$ \\\\\n",
       "\t10 & 2.33957e7 & 341.549 & 202.367 & 8.76715 & 0.900203 & 39.7342 & 3.39126e7 & 3.15654e6 & 1.08015 & $\\dots$ \\\\\n",
       "\\end{tabular}\n"
      ],
      "text/plain": [
       "10×10 DataFrame. Omitted printing of 4 columns\n",
       "│ Row │ S         │ E       │ I       │ J       │ H        │ C       │\n",
       "│     │ \u001b[90mFloat64\u001b[39m   │ \u001b[90mFloat64\u001b[39m │ \u001b[90mFloat64\u001b[39m │ \u001b[90mFloat64\u001b[39m │ \u001b[90mFloat64\u001b[39m  │ \u001b[90mFloat64\u001b[39m │\n",
       "├─────┼───────────┼─────────┼─────────┼─────────┼──────────┼─────────┤\n",
       "│ 1   │ 2.33977e7 │ 346.954 │ 213.08  │ 9.64134 │ 0.900091 │ 213.604 │\n",
       "│ 2   │ 2.33975e7 │ 341.506 │ 209.087 │ 9.41623 │ 0.900025 │ 177.886 │\n",
       "│ 3   │ 2.33972e7 │ 336.015 │ 204.985 │ 9.19059 │ 0.900023 │ 142.242 │\n",
       "│ 4   │ 2.3397e7  │ 331.563 │ 201.386 │ 8.9885  │ 0.900054 │ 110.574 │\n",
       "│ 5   │ 2.33967e7 │ 329.213 │ 198.985 │ 8.83745 │ 0.900162 │ 86.0814 │\n",
       "│ 6   │ 2.33964e7 │ 329.205 │ 197.998 │ 8.74626 │ 0.90034  │ 68.6706 │\n",
       "│ 7   │ 2.33962e7 │ 331.238 │ 198.26  │ 8.7075  │ 0.900438 │ 56.3625 │\n",
       "│ 8   │ 2.3396e7  │ 335.081 │ 199.606 │ 8.71276 │ 0.900393 │ 47.3365 │\n",
       "│ 9   │ 2.33957e7 │ 340.754 │ 202.011 │ 8.75898 │ 0.9003   │ 40.4384 │\n",
       "│ 10  │ 2.33957e7 │ 341.549 │ 202.367 │ 8.76715 │ 0.900203 │ 39.7342 │"
      ]
     },
     "execution_count": 36,
     "metadata": {},
     "output_type": "execute_result"
    }
   ],
   "source": [
    "# Create sums for each compartment\n",
    "for c in compartments\n",
    "    col =  [Symbol(c * repr(n)) for n in 0:(nAgeGroup-1)]\n",
    "    s = DataFrame(C = sum.(eachrow(solDF[:, col])))\n",
    "    rename!(s, [Symbol(c)])\n",
    "        \n",
    "    solDF = hcat(solDF, s)\n",
    "end\n",
    "\n",
    "# The D column gives the final number of dead.\n",
    "last(solDF[:, Symbol.(compartments)], 10)"
   ]
  },
  {
   "cell_type": "markdown",
   "metadata": {},
   "source": [
    "The last row shows the final sizes of the various compartments.\n",
    "\n",
    "Next is the evolution of the over time."
   ]
  },
  {
   "cell_type": "code",
   "execution_count": 37,
   "metadata": {},
   "outputs": [
    {
     "data": {
      "image/svg+xml": [
       "<?xml version=\"1.0\" encoding=\"utf-8\"?>\n",
       "<svg xmlns=\"http://www.w3.org/2000/svg\" xmlns:xlink=\"http://www.w3.org/1999/xlink\" width=\"600\" height=\"400\" viewBox=\"0 0 2400 1600\">\n",
       "<defs>\n",
       "  <clipPath id=\"clip5500\">\n",
       "    <rect x=\"0\" y=\"0\" width=\"2400\" height=\"1600\"/>\n",
       "  </clipPath>\n",
       "</defs>\n",
       "<path clip-path=\"url(#clip5500)\" d=\"\n",
       "M0 1600 L2400 1600 L2400 0 L0 0  Z\n",
       "  \" fill=\"#ffffff\" fill-rule=\"evenodd\" fill-opacity=\"1\"/>\n",
       "<defs>\n",
       "  <clipPath id=\"clip5501\">\n",
       "    <rect x=\"480\" y=\"0\" width=\"1681\" height=\"1600\"/>\n",
       "  </clipPath>\n",
       "</defs>\n",
       "<path clip-path=\"url(#clip5500)\" d=\"\n",
       "M189.854 1487.47 L2352.76 1487.47 L2352.76 121.675 L189.854 121.675  Z\n",
       "  \" fill=\"#ffffff\" fill-rule=\"evenodd\" fill-opacity=\"1\"/>\n",
       "<defs>\n",
       "  <clipPath id=\"clip5502\">\n",
       "    <rect x=\"189\" y=\"121\" width=\"2164\" height=\"1367\"/>\n",
       "  </clipPath>\n",
       "</defs>\n",
       "<polyline clip-path=\"url(#clip5502)\" style=\"stroke:#000000; stroke-width:2; stroke-opacity:0.1; fill:none\" points=\"\n",
       "  325.85,1487.47 325.85,121.675 \n",
       "  \"/>\n",
       "<polyline clip-path=\"url(#clip5502)\" style=\"stroke:#000000; stroke-width:2; stroke-opacity:0.1; fill:none\" points=\"\n",
       "  860.005,1487.47 860.005,121.675 \n",
       "  \"/>\n",
       "<polyline clip-path=\"url(#clip5502)\" style=\"stroke:#000000; stroke-width:2; stroke-opacity:0.1; fill:none\" points=\"\n",
       "  1394.16,1487.47 1394.16,121.675 \n",
       "  \"/>\n",
       "<polyline clip-path=\"url(#clip5502)\" style=\"stroke:#000000; stroke-width:2; stroke-opacity:0.1; fill:none\" points=\"\n",
       "  1928.32,1487.47 1928.32,121.675 \n",
       "  \"/>\n",
       "<polyline clip-path=\"url(#clip5502)\" style=\"stroke:#000000; stroke-width:2; stroke-opacity:0.1; fill:none\" points=\"\n",
       "  189.854,1156.18 2352.76,1156.18 \n",
       "  \"/>\n",
       "<polyline clip-path=\"url(#clip5502)\" style=\"stroke:#000000; stroke-width:2; stroke-opacity:0.1; fill:none\" points=\"\n",
       "  189.854,811.681 2352.76,811.681 \n",
       "  \"/>\n",
       "<polyline clip-path=\"url(#clip5502)\" style=\"stroke:#000000; stroke-width:2; stroke-opacity:0.1; fill:none\" points=\"\n",
       "  189.854,467.186 2352.76,467.186 \n",
       "  \"/>\n",
       "<polyline clip-path=\"url(#clip5502)\" style=\"stroke:#000000; stroke-width:2; stroke-opacity:0.1; fill:none\" points=\"\n",
       "  189.854,122.69 2352.76,122.69 \n",
       "  \"/>\n",
       "<polyline clip-path=\"url(#clip5500)\" style=\"stroke:#000000; stroke-width:4; stroke-opacity:1; fill:none\" points=\"\n",
       "  189.854,1487.47 2352.76,1487.47 \n",
       "  \"/>\n",
       "<polyline clip-path=\"url(#clip5500)\" style=\"stroke:#000000; stroke-width:4; stroke-opacity:1; fill:none\" points=\"\n",
       "  189.854,1487.47 189.854,121.675 \n",
       "  \"/>\n",
       "<polyline clip-path=\"url(#clip5500)\" style=\"stroke:#000000; stroke-width:4; stroke-opacity:1; fill:none\" points=\"\n",
       "  325.85,1487.47 325.85,1471.09 \n",
       "  \"/>\n",
       "<polyline clip-path=\"url(#clip5500)\" style=\"stroke:#000000; stroke-width:4; stroke-opacity:1; fill:none\" points=\"\n",
       "  860.005,1487.47 860.005,1471.09 \n",
       "  \"/>\n",
       "<polyline clip-path=\"url(#clip5500)\" style=\"stroke:#000000; stroke-width:4; stroke-opacity:1; fill:none\" points=\"\n",
       "  1394.16,1487.47 1394.16,1471.09 \n",
       "  \"/>\n",
       "<polyline clip-path=\"url(#clip5500)\" style=\"stroke:#000000; stroke-width:4; stroke-opacity:1; fill:none\" points=\"\n",
       "  1928.32,1487.47 1928.32,1471.09 \n",
       "  \"/>\n",
       "<polyline clip-path=\"url(#clip5500)\" style=\"stroke:#000000; stroke-width:4; stroke-opacity:1; fill:none\" points=\"\n",
       "  189.854,1156.18 215.809,1156.18 \n",
       "  \"/>\n",
       "<polyline clip-path=\"url(#clip5500)\" style=\"stroke:#000000; stroke-width:4; stroke-opacity:1; fill:none\" points=\"\n",
       "  189.854,811.681 215.809,811.681 \n",
       "  \"/>\n",
       "<polyline clip-path=\"url(#clip5500)\" style=\"stroke:#000000; stroke-width:4; stroke-opacity:1; fill:none\" points=\"\n",
       "  189.854,467.186 215.809,467.186 \n",
       "  \"/>\n",
       "<polyline clip-path=\"url(#clip5500)\" style=\"stroke:#000000; stroke-width:4; stroke-opacity:1; fill:none\" points=\"\n",
       "  189.854,122.69 215.809,122.69 \n",
       "  \"/>\n",
       "<g clip-path=\"url(#clip5500)\">\n",
       "<text style=\"fill:#000000; fill-opacity:1; font-family:Arial,Helvetica Neue,Helvetica,sans-serif; font-size:48px; text-anchor:middle;\" transform=\"rotate(0, 325.85, 1541.47)\" x=\"325.85\" y=\"1541.47\">0</text>\n",
       "</g>\n",
       "<g clip-path=\"url(#clip5500)\">\n",
       "<text style=\"fill:#000000; fill-opacity:1; font-family:Arial,Helvetica Neue,Helvetica,sans-serif; font-size:48px; text-anchor:middle;\" transform=\"rotate(0, 860.005, 1541.47)\" x=\"860.005\" y=\"1541.47\">50</text>\n",
       "</g>\n",
       "<g clip-path=\"url(#clip5500)\">\n",
       "<text style=\"fill:#000000; fill-opacity:1; font-family:Arial,Helvetica Neue,Helvetica,sans-serif; font-size:48px; text-anchor:middle;\" transform=\"rotate(0, 1394.16, 1541.47)\" x=\"1394.16\" y=\"1541.47\">100</text>\n",
       "</g>\n",
       "<g clip-path=\"url(#clip5500)\">\n",
       "<text style=\"fill:#000000; fill-opacity:1; font-family:Arial,Helvetica Neue,Helvetica,sans-serif; font-size:48px; text-anchor:middle;\" transform=\"rotate(0, 1928.32, 1541.47)\" x=\"1928.32\" y=\"1541.47\">150</text>\n",
       "</g>\n",
       "<g clip-path=\"url(#clip5500)\">\n",
       "<text style=\"fill:#000000; fill-opacity:1; font-family:Arial,Helvetica Neue,Helvetica,sans-serif; font-size:48px; text-anchor:start;\" transform=\"rotate(0, 79.7126, 1179.9)\" x=\"79.7126\" y=\"1179.9\">10</text>\n",
       "</g>\n",
       "<g clip-path=\"url(#clip5500)\">\n",
       "<text style=\"fill:#000000; fill-opacity:1; font-family:Arial,Helvetica Neue,Helvetica,sans-serif; font-size:38px; text-anchor:start;\" transform=\"rotate(0, 133.237, 1152.49)\" x=\"133.237\" y=\"1152.49\">2 </text>\n",
       "</g>\n",
       "<g clip-path=\"url(#clip5500)\">\n",
       "<text style=\"fill:#000000; fill-opacity:1; font-family:Arial,Helvetica Neue,Helvetica,sans-serif; font-size:48px; text-anchor:start;\" transform=\"rotate(0, 79.7126, 835.409)\" x=\"79.7126\" y=\"835.409\">10</text>\n",
       "</g>\n",
       "<g clip-path=\"url(#clip5500)\">\n",
       "<text style=\"fill:#000000; fill-opacity:1; font-family:Arial,Helvetica Neue,Helvetica,sans-serif; font-size:38px; text-anchor:start;\" transform=\"rotate(0, 133.237, 807.998)\" x=\"133.237\" y=\"807.998\">4 </text>\n",
       "</g>\n",
       "<g clip-path=\"url(#clip5500)\">\n",
       "<text style=\"fill:#000000; fill-opacity:1; font-family:Arial,Helvetica Neue,Helvetica,sans-serif; font-size:48px; text-anchor:start;\" transform=\"rotate(0, 79.7126, 490.913)\" x=\"79.7126\" y=\"490.913\">10</text>\n",
       "</g>\n",
       "<g clip-path=\"url(#clip5500)\">\n",
       "<text style=\"fill:#000000; fill-opacity:1; font-family:Arial,Helvetica Neue,Helvetica,sans-serif; font-size:38px; text-anchor:start;\" transform=\"rotate(0, 133.237, 463.503)\" x=\"133.237\" y=\"463.503\">6 </text>\n",
       "</g>\n",
       "<g clip-path=\"url(#clip5500)\">\n",
       "<text style=\"fill:#000000; fill-opacity:1; font-family:Arial,Helvetica Neue,Helvetica,sans-serif; font-size:48px; text-anchor:start;\" transform=\"rotate(0, 79.7126, 146.418)\" x=\"79.7126\" y=\"146.418\">10</text>\n",
       "</g>\n",
       "<g clip-path=\"url(#clip5500)\">\n",
       "<text style=\"fill:#000000; fill-opacity:1; font-family:Arial,Helvetica Neue,Helvetica,sans-serif; font-size:38px; text-anchor:start;\" transform=\"rotate(0, 133.237, 119.008)\" x=\"133.237\" y=\"119.008\">8 </text>\n",
       "</g>\n",
       "<g clip-path=\"url(#clip5500)\">\n",
       "<text style=\"fill:#000000; fill-opacity:1; font-family:Arial,Helvetica Neue,Helvetica,sans-serif; font-size:84px; text-anchor:middle;\" transform=\"rotate(0, 1271.3, 73.2)\" x=\"1271.3\" y=\"73.2\">Increase in deaths and recoveries</text>\n",
       "</g>\n",
       "<polyline clip-path=\"url(#clip5502)\" style=\"stroke:#009af9; stroke-width:4; stroke-opacity:1; fill:none\" points=\"\n",
       "  325.85,160.33 325.959,160.33 326.757,160.33 327.632,160.33 329.4,160.331 331.21,160.331 334.003,160.332 337.078,160.333 341.062,160.335 345.726,160.337 \n",
       "  351.427,160.34 358.123,160.346 366.044,160.355 375.224,160.374 385.8,160.414 397.675,160.505 410.729,160.734 424.596,161.329 439.109,162.955 450.321,165.519 \n",
       "  460.003,167.267 467.803,168.556 476.617,170.401 484.736,172.821 493.517,174.708 503.77,176.05 514.068,177.208 524.917,178.68 535.906,180.809 547.123,184.11 \n",
       "  558.525,188.286 569.566,189.947 581.048,191.546 592.399,193.447 603.904,196.013 615.403,199.554 627.003,204.257 638.443,206.941 649.958,208.263 661.569,209.179 \n",
       "  673.247,210.041 685.043,210.992 696.912,212.09 708.851,213.373 720.854,214.866 732.972,216.601 745.269,218.615 757.713,220.932 770.261,223.569 782.918,226.55 \n",
       "  795.67,229.311 808.617,230.35 820.965,230.689 833.798,230.83 846.498,230.904 859.334,230.955 872.133,230.997 884.979,231.034 897.815,231.067 910.674,231.096 \n",
       "  923.543,231.122 936.432,231.143 949.365,231.162 962.43,231.177 975.866,231.19 990.089,231.203 1006.08,231.216 1024.6,231.229 1047,231.243 1067.51,231.254 \n",
       "  1087.15,231.263 1113.23,231.274 1143.15,231.284 1165.75,231.291 1186.67,231.296 1211.79,231.302 1235.56,231.307 1261.5,231.312 1292.18,231.316 1320.4,231.32 \n",
       "  1348.99,231.323 1376.9,231.326 1399.93,231.328 1419.35,231.33 1439.92,231.331 1457.72,231.333 1480.55,231.334 1499.56,231.335 1517.97,231.336 1528.04,231.337 \n",
       "  1533.51,231.337 1538.3,231.337 1540.99,231.337 1545.05,231.337 1549.1,231.338 1555.76,231.338 1561.99,231.338 1569.71,231.339 1577.73,231.339 1586.54,231.339 \n",
       "  1596.09,231.34 1606.29,231.34 1617.25,231.34 1629.09,231.341 1642,231.341 1656.34,231.342 1672.7,231.342 1686.31,231.342 1699.74,231.343 1717.56,231.343 \n",
       "  1736.1,231.344 1752.23,231.344 1768.46,231.345 1787.37,231.345 1809.34,231.346 1836.75,231.346 1871.22,231.347 1910.5,231.348 1932.58,231.348 1953.76,231.349 \n",
       "  1979.6,231.349 2009.32,231.35 2046.35,231.35 2089.24,231.351 2133.59,231.352 2175.65,231.353 2214.63,231.354 2251.45,231.354 2287.34,231.355 2291.54,231.355 \n",
       "  \n",
       "  \"/>\n",
       "<polyline clip-path=\"url(#clip5502)\" style=\"stroke:#e26f46; stroke-width:4; stroke-opacity:1; fill:none\" points=\"\n",
       "  325.85,1248.78 325.959,1248.74 326.757,1248.47 327.632,1248.18 329.4,1247.61 331.21,1247.03 334.003,1246.12 337.078,1245.05 341.062,1243.51 345.726,1241.44 \n",
       "  351.427,1238.44 358.123,1234.14 366.044,1227.67 375.224,1217.61 385.8,1201.16 397.675,1174.21 410.729,1132.6 424.596,1076.36 439.109,1008.93 450.321,953.264 \n",
       "  460.003,901.873 467.803,860.276 476.617,815.487 484.736,776.772 493.517,738.516 503.77,699.092 514.068,664.79 524.917,633.616 535.906,606.405 547.123,582.407 \n",
       "  558.525,561.251 569.566,543.337 581.048,526.936 592.399,512.598 603.904,499.685 615.403,488.186 627.003,477.823 638.443,468.669 649.958,460.393 661.569,452.887 \n",
       "  673.247,446.089 685.043,439.903 696.912,434.293 708.851,429.207 720.854,424.599 732.972,420.407 745.269,416.579 757.713,413.095 770.261,409.938 782.918,407.078 \n",
       "  795.67,404.49 808.617,402.132 820.965,400.108 833.798,398.212 846.498,396.522 859.334,394.983 872.133,393.6 884.979,392.348 897.815,391.221 910.674,390.203 \n",
       "  923.543,389.285 936.432,388.457 949.365,387.708 962.43,387.028 975.866,386.4 990.089,385.806 1006.08,385.217 1024.6,384.625 1047,384.02 1067.51,383.557 \n",
       "  1087.15,383.183 1113.23,382.772 1143.15,382.401 1165.75,382.177 1186.67,382.005 1211.79,381.837 1235.56,381.709 1261.5,381.598 1292.18,381.497 1320.4,381.427 \n",
       "  1348.99,381.373 1376.9,381.332 1399.93,381.307 1419.35,381.289 1439.92,381.274 1457.72,381.263 1480.55,381.252 1499.56,381.244 1517.97,381.238 1528.04,381.235 \n",
       "  1533.51,381.234 1538.3,381.233 1540.99,381.232 1545.05,381.231 1549.1,381.23 1555.76,381.229 1561.99,381.227 1569.71,381.226 1577.73,381.225 1586.54,381.223 \n",
       "  1596.09,381.222 1606.29,381.22 1617.25,381.218 1629.09,381.217 1642,381.215 1656.34,381.214 1672.7,381.212 1686.31,381.211 1699.74,381.21 1717.56,381.209 \n",
       "  1736.1,381.207 1752.23,381.206 1768.46,381.206 1787.37,381.205 1809.34,381.204 1836.75,381.203 1871.22,381.202 1910.5,381.201 1932.58,381.201 1953.76,381.2 \n",
       "  1979.6,381.2 2009.32,381.199 2046.35,381.199 2089.24,381.199 2133.59,381.199 2175.65,381.198 2214.63,381.198 2251.45,381.198 2287.34,381.198 2291.54,381.198 \n",
       "  \n",
       "  \"/>\n",
       "<polyline clip-path=\"url(#clip5502)\" style=\"stroke:#3da44d; stroke-width:4; stroke-opacity:1; fill:none\" points=\"\n",
       "  325.85,1336.31 325.959,1280.43 326.757,1163.36 327.632,1117.45 329.4,1069.63 331.21,1041.17 334.003,1012.65 337.078,991.263 341.062,971.179 345.726,953.385 \n",
       "  351.427,935.94 358.123,918.328 366.044,898.838 375.224,875.787 385.8,846.646 397.675,809.223 410.729,761.945 424.596,705.555 439.109,641.502 450.321,589.769 \n",
       "  460.003,546.718 467.803,516.143 476.617,486.228 484.736,462.023 493.517,438.441 503.77,414.337 514.068,393.857 524.917,375.737 535.906,360.137 547.123,346.174 \n",
       "  558.525,333.176 569.566,321.39 581.048,310.247 592.399,300.431 603.904,291.551 615.403,283.5 627.003,275.92 638.443,268.784 649.958,262.066 661.569,255.946 \n",
       "  673.247,250.518 685.043,245.745 696.912,241.581 708.851,237.935 720.854,234.714 732.972,231.814 745.269,229.141 757.713,226.634 770.261,224.24 782.918,221.906 \n",
       "  795.67,219.595 808.617,217.306 820.965,215.261 833.798,213.349 846.498,211.7 859.334,210.278 872.133,209.087 884.979,208.093 897.815,207.274 910.674,206.601 \n",
       "  923.543,206.051 936.432,205.602 949.365,205.237 962.43,204.938 975.866,204.69 990.089,204.481 1006.08,204.297 1024.6,204.136 1047,203.997 1067.51,203.906 \n",
       "  1087.15,203.842 1113.23,203.782 1143.15,203.735 1165.75,203.711 1186.67,203.693 1211.79,203.677 1235.56,203.665 1261.5,203.654 1292.18,203.644 1320.4,203.637 \n",
       "  1348.99,203.631 1376.9,203.625 1399.93,203.621 1419.35,203.618 1439.92,203.616 1457.72,203.613 1480.55,203.611 1499.56,203.609 1517.97,203.607 1528.04,203.606 \n",
       "  1533.51,203.606 1538.3,203.605 1540.99,203.605 1545.05,203.605 1549.1,203.604 1555.76,203.604 1561.99,203.603 1569.71,203.603 1577.73,203.602 1586.54,203.602 \n",
       "  1596.09,203.601 1606.29,203.6 1617.25,203.6 1629.09,203.599 1642,203.598 1656.34,203.598 1672.7,203.597 1686.31,203.596 1699.74,203.596 1717.56,203.595 \n",
       "  1736.1,203.595 1752.23,203.594 1768.46,203.594 1787.37,203.593 1809.34,203.593 1836.75,203.592 1871.22,203.591 1910.5,203.591 1932.58,203.59 1953.76,203.59 \n",
       "  1979.6,203.589 2009.32,203.589 2046.35,203.588 2089.24,203.588 2133.59,203.587 2175.65,203.586 2214.63,203.586 2251.45,203.585 2287.34,203.585 2291.54,203.585 \n",
       "  \n",
       "  \"/>\n",
       "<polyline clip-path=\"url(#clip5502)\" style=\"stroke:#c271d2; stroke-width:4; stroke-opacity:1; fill:none\" points=\"\n",
       "  251.068,1448.82 261.751,1448.82 272.434,1366.64 283.117,1321.29 293.8,1314.79 304.484,1288.73 315.167,1272.92 325.85,1248.78 336.533,1234.71 347.216,1205.09 \n",
       "  357.899,1172.87 368.582,1151.12 379.265,1126.85 389.948,1105.46 400.632,1092.9 411.315,1059.12 421.998,1041.37 432.681,1018.37 443.364,998.138 454.047,982.741 \n",
       "  464.73,966.167 475.413,956.599 486.096,939.503 496.78,926.389 507.463,915.235 518.146,902.296 528.829,892.229 539.512,879.629 550.195,866.167 \n",
       "  \"/>\n",
       "<path clip-path=\"url(#clip5500)\" d=\"\n",
       "M1749.11 1343.47 L2280.76 1343.47 L2280.76 1041.07 L1749.11 1041.07  Z\n",
       "  \" fill=\"#ffffff\" fill-rule=\"evenodd\" fill-opacity=\"1\"/>\n",
       "<polyline clip-path=\"url(#clip5500)\" style=\"stroke:#000000; stroke-width:4; stroke-opacity:1; fill:none\" points=\"\n",
       "  1749.11,1343.47 2280.76,1343.47 2280.76,1041.07 1749.11,1041.07 1749.11,1343.47 \n",
       "  \"/>\n",
       "<polyline clip-path=\"url(#clip5500)\" style=\"stroke:#009af9; stroke-width:4; stroke-opacity:1; fill:none\" points=\"\n",
       "  1773.11,1101.55 1917.11,1101.55 \n",
       "  \"/>\n",
       "<g clip-path=\"url(#clip5500)\">\n",
       "<text style=\"fill:#000000; fill-opacity:1; font-family:Arial,Helvetica Neue,Helvetica,sans-serif; font-size:48px; text-anchor:start;\" transform=\"rotate(0, 1941.11, 1119.05)\" x=\"1941.11\" y=\"1119.05\">S</text>\n",
       "</g>\n",
       "<polyline clip-path=\"url(#clip5500)\" style=\"stroke:#e26f46; stroke-width:4; stroke-opacity:1; fill:none\" points=\"\n",
       "  1773.11,1162.03 1917.11,1162.03 \n",
       "  \"/>\n",
       "<g clip-path=\"url(#clip5500)\">\n",
       "<text style=\"fill:#000000; fill-opacity:1; font-family:Arial,Helvetica Neue,Helvetica,sans-serif; font-size:48px; text-anchor:start;\" transform=\"rotate(0, 1941.11, 1179.53)\" x=\"1941.11\" y=\"1179.53\">D</text>\n",
       "</g>\n",
       "<polyline clip-path=\"url(#clip5500)\" style=\"stroke:#3da44d; stroke-width:4; stroke-opacity:1; fill:none\" points=\"\n",
       "  1773.11,1222.51 1917.11,1222.51 \n",
       "  \"/>\n",
       "<g clip-path=\"url(#clip5500)\">\n",
       "<text style=\"fill:#000000; fill-opacity:1; font-family:Arial,Helvetica Neue,Helvetica,sans-serif; font-size:48px; text-anchor:start;\" transform=\"rotate(0, 1941.11, 1240.01)\" x=\"1941.11\" y=\"1240.01\">R</text>\n",
       "</g>\n",
       "<polyline clip-path=\"url(#clip5500)\" style=\"stroke:#c271d2; stroke-width:4; stroke-opacity:1; fill:none\" points=\"\n",
       "  1773.11,1282.99 1917.11,1282.99 \n",
       "  \"/>\n",
       "<g clip-path=\"url(#clip5500)\">\n",
       "<text style=\"fill:#000000; fill-opacity:1; font-family:Arial,Helvetica Neue,Helvetica,sans-serif; font-size:48px; text-anchor:start;\" transform=\"rotate(0, 1941.11, 1300.49)\" x=\"1941.11\" y=\"1300.49\">Actual deaths</text>\n",
       "</g>\n",
       "</svg>\n"
      ]
     },
     "execution_count": 37,
     "metadata": {},
     "output_type": "execute_result"
    }
   ],
   "source": [
    "@df solDF plot(:t, :S, label = \"S\", legend = :topright, title = \"Increase in deaths and recoveries\")\n",
    "#@df solDF plot!(:t, :E, label = \"E\")\n",
    "#@df solDF plot!(:t, :I, label = \"I\")\n",
    "#@df solDF plot!(:t, :J, label = \"J\")\n",
    "#@df solDF plot!(:t, :H, label = \"H\")\n",
    "#@df solDF plot!(:t, :K, label = \"K\")\n",
    "#@df solDF plot!(:t, :L, label = \"L\")\n",
    "#@df solDF plot!(:t, :C, label = \"C\")\n",
    "@df solDF plot!(:t, :D, label = \"D\")\n",
    "@df solDF plot!(:t, :R, label = \"R\")\n",
    "\n",
    "@df @where(cases, :deaths .> 0.0) plot!(:t, :deaths, label = \"Actual deaths\", legend = :bottomright)\n",
    "\n",
    "plot!(yaxis = (:log10))"
   ]
  },
  {
   "cell_type": "markdown",
   "metadata": {},
   "source": [
    "It is clear the model forecasts a faster growth than reality. A parameter estimaation is necessary."
   ]
  },
  {
   "cell_type": "code",
   "execution_count": 38,
   "metadata": {},
   "outputs": [
    {
     "data": {
      "image/svg+xml": [
       "<?xml version=\"1.0\" encoding=\"utf-8\"?>\n",
       "<svg xmlns=\"http://www.w3.org/2000/svg\" xmlns:xlink=\"http://www.w3.org/1999/xlink\" width=\"600\" height=\"400\" viewBox=\"0 0 2400 1600\">\n",
       "<defs>\n",
       "  <clipPath id=\"clip5900\">\n",
       "    <rect x=\"0\" y=\"0\" width=\"2400\" height=\"1600\"/>\n",
       "  </clipPath>\n",
       "</defs>\n",
       "<path clip-path=\"url(#clip5900)\" d=\"\n",
       "M0 1600 L2400 1600 L2400 0 L0 0  Z\n",
       "  \" fill=\"#ffffff\" fill-rule=\"evenodd\" fill-opacity=\"1\"/>\n",
       "<defs>\n",
       "  <clipPath id=\"clip5901\">\n",
       "    <rect x=\"480\" y=\"0\" width=\"1681\" height=\"1600\"/>\n",
       "  </clipPath>\n",
       "</defs>\n",
       "<path clip-path=\"url(#clip5900)\" d=\"\n",
       "M189.854 1487.47 L2352.76 1487.47 L2352.76 121.675 L189.854 121.675  Z\n",
       "  \" fill=\"#ffffff\" fill-rule=\"evenodd\" fill-opacity=\"1\"/>\n",
       "<defs>\n",
       "  <clipPath id=\"clip5902\">\n",
       "    <rect x=\"189\" y=\"121\" width=\"2164\" height=\"1367\"/>\n",
       "  </clipPath>\n",
       "</defs>\n",
       "<polyline clip-path=\"url(#clip5902)\" style=\"stroke:#000000; stroke-width:2; stroke-opacity:0.1; fill:none\" points=\"\n",
       "  251.068,1487.47 251.068,121.675 \n",
       "  \"/>\n",
       "<polyline clip-path=\"url(#clip5902)\" style=\"stroke:#000000; stroke-width:2; stroke-opacity:0.1; fill:none\" points=\"\n",
       "  805.545,1487.47 805.545,121.675 \n",
       "  \"/>\n",
       "<polyline clip-path=\"url(#clip5902)\" style=\"stroke:#000000; stroke-width:2; stroke-opacity:0.1; fill:none\" points=\"\n",
       "  1360.02,1487.47 1360.02,121.675 \n",
       "  \"/>\n",
       "<polyline clip-path=\"url(#clip5902)\" style=\"stroke:#000000; stroke-width:2; stroke-opacity:0.1; fill:none\" points=\"\n",
       "  1914.5,1487.47 1914.5,121.675 \n",
       "  \"/>\n",
       "<polyline clip-path=\"url(#clip5902)\" style=\"stroke:#000000; stroke-width:2; stroke-opacity:0.1; fill:none\" points=\"\n",
       "  189.854,1300.32 2352.76,1300.32 \n",
       "  \"/>\n",
       "<polyline clip-path=\"url(#clip5902)\" style=\"stroke:#000000; stroke-width:2; stroke-opacity:0.1; fill:none\" points=\"\n",
       "  189.854,1076.37 2352.76,1076.37 \n",
       "  \"/>\n",
       "<polyline clip-path=\"url(#clip5902)\" style=\"stroke:#000000; stroke-width:2; stroke-opacity:0.1; fill:none\" points=\"\n",
       "  189.854,852.428 2352.76,852.428 \n",
       "  \"/>\n",
       "<polyline clip-path=\"url(#clip5902)\" style=\"stroke:#000000; stroke-width:2; stroke-opacity:0.1; fill:none\" points=\"\n",
       "  189.854,628.483 2352.76,628.483 \n",
       "  \"/>\n",
       "<polyline clip-path=\"url(#clip5902)\" style=\"stroke:#000000; stroke-width:2; stroke-opacity:0.1; fill:none\" points=\"\n",
       "  189.854,404.538 2352.76,404.538 \n",
       "  \"/>\n",
       "<polyline clip-path=\"url(#clip5902)\" style=\"stroke:#000000; stroke-width:2; stroke-opacity:0.1; fill:none\" points=\"\n",
       "  189.854,180.594 2352.76,180.594 \n",
       "  \"/>\n",
       "<polyline clip-path=\"url(#clip5900)\" style=\"stroke:#000000; stroke-width:4; stroke-opacity:1; fill:none\" points=\"\n",
       "  189.854,1487.47 2352.76,1487.47 \n",
       "  \"/>\n",
       "<polyline clip-path=\"url(#clip5900)\" style=\"stroke:#000000; stroke-width:4; stroke-opacity:1; fill:none\" points=\"\n",
       "  189.854,1487.47 189.854,121.675 \n",
       "  \"/>\n",
       "<polyline clip-path=\"url(#clip5900)\" style=\"stroke:#000000; stroke-width:4; stroke-opacity:1; fill:none\" points=\"\n",
       "  251.068,1487.47 251.068,1471.09 \n",
       "  \"/>\n",
       "<polyline clip-path=\"url(#clip5900)\" style=\"stroke:#000000; stroke-width:4; stroke-opacity:1; fill:none\" points=\"\n",
       "  805.545,1487.47 805.545,1471.09 \n",
       "  \"/>\n",
       "<polyline clip-path=\"url(#clip5900)\" style=\"stroke:#000000; stroke-width:4; stroke-opacity:1; fill:none\" points=\"\n",
       "  1360.02,1487.47 1360.02,1471.09 \n",
       "  \"/>\n",
       "<polyline clip-path=\"url(#clip5900)\" style=\"stroke:#000000; stroke-width:4; stroke-opacity:1; fill:none\" points=\"\n",
       "  1914.5,1487.47 1914.5,1471.09 \n",
       "  \"/>\n",
       "<polyline clip-path=\"url(#clip5900)\" style=\"stroke:#000000; stroke-width:4; stroke-opacity:1; fill:none\" points=\"\n",
       "  189.854,1300.32 215.809,1300.32 \n",
       "  \"/>\n",
       "<polyline clip-path=\"url(#clip5900)\" style=\"stroke:#000000; stroke-width:4; stroke-opacity:1; fill:none\" points=\"\n",
       "  189.854,1076.37 215.809,1076.37 \n",
       "  \"/>\n",
       "<polyline clip-path=\"url(#clip5900)\" style=\"stroke:#000000; stroke-width:4; stroke-opacity:1; fill:none\" points=\"\n",
       "  189.854,852.428 215.809,852.428 \n",
       "  \"/>\n",
       "<polyline clip-path=\"url(#clip5900)\" style=\"stroke:#000000; stroke-width:4; stroke-opacity:1; fill:none\" points=\"\n",
       "  189.854,628.483 215.809,628.483 \n",
       "  \"/>\n",
       "<polyline clip-path=\"url(#clip5900)\" style=\"stroke:#000000; stroke-width:4; stroke-opacity:1; fill:none\" points=\"\n",
       "  189.854,404.538 215.809,404.538 \n",
       "  \"/>\n",
       "<polyline clip-path=\"url(#clip5900)\" style=\"stroke:#000000; stroke-width:4; stroke-opacity:1; fill:none\" points=\"\n",
       "  189.854,180.594 215.809,180.594 \n",
       "  \"/>\n",
       "<g clip-path=\"url(#clip5900)\">\n",
       "<text style=\"fill:#000000; fill-opacity:1; font-family:Arial,Helvetica Neue,Helvetica,sans-serif; font-size:48px; text-anchor:middle;\" transform=\"rotate(0, 251.068, 1541.47)\" x=\"251.068\" y=\"1541.47\">0</text>\n",
       "</g>\n",
       "<g clip-path=\"url(#clip5900)\">\n",
       "<text style=\"fill:#000000; fill-opacity:1; font-family:Arial,Helvetica Neue,Helvetica,sans-serif; font-size:48px; text-anchor:middle;\" transform=\"rotate(0, 805.545, 1541.47)\" x=\"805.545\" y=\"1541.47\">50</text>\n",
       "</g>\n",
       "<g clip-path=\"url(#clip5900)\">\n",
       "<text style=\"fill:#000000; fill-opacity:1; font-family:Arial,Helvetica Neue,Helvetica,sans-serif; font-size:48px; text-anchor:middle;\" transform=\"rotate(0, 1360.02, 1541.47)\" x=\"1360.02\" y=\"1541.47\">100</text>\n",
       "</g>\n",
       "<g clip-path=\"url(#clip5900)\">\n",
       "<text style=\"fill:#000000; fill-opacity:1; font-family:Arial,Helvetica Neue,Helvetica,sans-serif; font-size:48px; text-anchor:middle;\" transform=\"rotate(0, 1914.5, 1541.47)\" x=\"1914.5\" y=\"1541.47\">150</text>\n",
       "</g>\n",
       "<g clip-path=\"url(#clip5900)\">\n",
       "<text style=\"fill:#000000; fill-opacity:1; font-family:Arial,Helvetica Neue,Helvetica,sans-serif; font-size:48px; text-anchor:start;\" transform=\"rotate(0, 79.7126, 1324.04)\" x=\"79.7126\" y=\"1324.04\">10</text>\n",
       "</g>\n",
       "<g clip-path=\"url(#clip5900)\">\n",
       "<text style=\"fill:#000000; fill-opacity:1; font-family:Arial,Helvetica Neue,Helvetica,sans-serif; font-size:38px; text-anchor:start;\" transform=\"rotate(0, 133.237, 1296.63)\" x=\"133.237\" y=\"1296.63\">1 </text>\n",
       "</g>\n",
       "<g clip-path=\"url(#clip5900)\">\n",
       "<text style=\"fill:#000000; fill-opacity:1; font-family:Arial,Helvetica Neue,Helvetica,sans-serif; font-size:48px; text-anchor:start;\" transform=\"rotate(0, 79.7126, 1100.1)\" x=\"79.7126\" y=\"1100.1\">10</text>\n",
       "</g>\n",
       "<g clip-path=\"url(#clip5900)\">\n",
       "<text style=\"fill:#000000; fill-opacity:1; font-family:Arial,Helvetica Neue,Helvetica,sans-serif; font-size:38px; text-anchor:start;\" transform=\"rotate(0, 133.237, 1072.69)\" x=\"133.237\" y=\"1072.69\">2 </text>\n",
       "</g>\n",
       "<g clip-path=\"url(#clip5900)\">\n",
       "<text style=\"fill:#000000; fill-opacity:1; font-family:Arial,Helvetica Neue,Helvetica,sans-serif; font-size:48px; text-anchor:start;\" transform=\"rotate(0, 79.7126, 876.155)\" x=\"79.7126\" y=\"876.155\">10</text>\n",
       "</g>\n",
       "<g clip-path=\"url(#clip5900)\">\n",
       "<text style=\"fill:#000000; fill-opacity:1; font-family:Arial,Helvetica Neue,Helvetica,sans-serif; font-size:38px; text-anchor:start;\" transform=\"rotate(0, 133.237, 848.745)\" x=\"133.237\" y=\"848.745\">3 </text>\n",
       "</g>\n",
       "<g clip-path=\"url(#clip5900)\">\n",
       "<text style=\"fill:#000000; fill-opacity:1; font-family:Arial,Helvetica Neue,Helvetica,sans-serif; font-size:48px; text-anchor:start;\" transform=\"rotate(0, 79.7126, 652.21)\" x=\"79.7126\" y=\"652.21\">10</text>\n",
       "</g>\n",
       "<g clip-path=\"url(#clip5900)\">\n",
       "<text style=\"fill:#000000; fill-opacity:1; font-family:Arial,Helvetica Neue,Helvetica,sans-serif; font-size:38px; text-anchor:start;\" transform=\"rotate(0, 133.237, 624.8)\" x=\"133.237\" y=\"624.8\">4 </text>\n",
       "</g>\n",
       "<g clip-path=\"url(#clip5900)\">\n",
       "<text style=\"fill:#000000; fill-opacity:1; font-family:Arial,Helvetica Neue,Helvetica,sans-serif; font-size:48px; text-anchor:start;\" transform=\"rotate(0, 79.7126, 428.266)\" x=\"79.7126\" y=\"428.266\">10</text>\n",
       "</g>\n",
       "<g clip-path=\"url(#clip5900)\">\n",
       "<text style=\"fill:#000000; fill-opacity:1; font-family:Arial,Helvetica Neue,Helvetica,sans-serif; font-size:38px; text-anchor:start;\" transform=\"rotate(0, 133.237, 400.855)\" x=\"133.237\" y=\"400.855\">5 </text>\n",
       "</g>\n",
       "<g clip-path=\"url(#clip5900)\">\n",
       "<text style=\"fill:#000000; fill-opacity:1; font-family:Arial,Helvetica Neue,Helvetica,sans-serif; font-size:48px; text-anchor:start;\" transform=\"rotate(0, 79.7126, 204.321)\" x=\"79.7126\" y=\"204.321\">10</text>\n",
       "</g>\n",
       "<g clip-path=\"url(#clip5900)\">\n",
       "<text style=\"fill:#000000; fill-opacity:1; font-family:Arial,Helvetica Neue,Helvetica,sans-serif; font-size:38px; text-anchor:start;\" transform=\"rotate(0, 133.237, 176.911)\" x=\"133.237\" y=\"176.911\">6 </text>\n",
       "</g>\n",
       "<g clip-path=\"url(#clip5900)\">\n",
       "<text style=\"fill:#000000; fill-opacity:1; font-family:Arial,Helvetica Neue,Helvetica,sans-serif; font-size:84px; text-anchor:middle;\" transform=\"rotate(0, 1271.3, 73.2)\" x=\"1271.3\" y=\"73.2\">Deaths by age group</text>\n",
       "</g>\n",
       "<polyline clip-path=\"url(#clip5902)\" style=\"stroke:#009af9; stroke-width:4; stroke-opacity:1; fill:none\" points=\"\n",
       "  251.068,1439.29 251.182,1439.23 252.01,1438.85 252.918,1438.44 254.753,1437.65 256.633,1436.89 259.531,1435.79 262.723,1434.67 266.859,1433.34 271.7,1431.93 \n",
       "  277.618,1430.34 284.569,1428.63 292.791,1426.75 302.321,1424.71 313.299,1422.49 325.626,1420.13 339.176,1417.67 353.571,1415.19 368.636,1412.73 380.274,1410.91 \n",
       "  390.325,1409.36 398.422,1408.12 407.571,1406.72 415.998,1405.47 425.114,1404.2 435.757,1402.8 446.447,1401.5 457.708,1400.22 469.116,1399.02 480.759,1397.88 \n",
       "  492.595,1396.81 504.056,1395.84 515.975,1394.9 527.757,1394.04 539.701,1393.22 551.636,1392.45 563.679,1391.73 575.554,1391.06 587.506,1390.43 599.56,1389.83 \n",
       "  611.681,1389.25 623.926,1388.69 636.247,1388.15 648.64,1387.62 661.1,1387.12 673.678,1386.63 686.443,1386.14 699.361,1385.67 712.386,1385.21 725.525,1384.76 \n",
       "  738.762,1384.31 752.201,1383.87 765.019,1383.47 778.34,1383.05 791.524,1382.65 804.848,1382.25 818.133,1381.85 831.469,1381.46 844.793,1381.08 858.141,1380.7 \n",
       "  871.499,1380.32 884.879,1379.95 898.304,1379.57 911.866,1379.19 925.813,1378.81 940.577,1378.39 957.179,1377.93 976.402,1377.39 999.649,1376.73 1020.94,1376.12 \n",
       "  1041.33,1375.51 1068.4,1374.69 1099.46,1373.71 1122.92,1372.92 1144.64,1372.17 1170.71,1371.2 1195.38,1370.23 1222.31,1369.09 1254.16,1367.61 1283.45,1366.14 \n",
       "  1313.13,1364.57 1342.1,1362.98 1366.01,1361.64 1386.17,1360.49 1407.52,1359.26 1426,1358.2 1449.7,1356.82 1469.43,1355.68 1488.54,1354.57 1499,1353.96 \n",
       "  1504.68,1353.63 1509.64,1353.35 1512.43,1353.18 1516.65,1352.94 1520.85,1352.7 1527.77,1352.3 1534.24,1351.93 1542.25,1351.47 1550.57,1350.99 1559.72,1350.47 \n",
       "  1569.63,1349.9 1580.22,1349.3 1591.6,1348.65 1603.89,1347.96 1617.29,1347.21 1632.17,1346.38 1649.16,1345.43 1663.28,1344.65 1677.23,1343.89 1695.72,1342.88 \n",
       "  1714.97,1341.84 1731.71,1340.94 1748.56,1340.04 1768.19,1339.01 1791,1337.82 1819.45,1336.35 1855.23,1334.53 1896,1332.49 1918.92,1331.37 1940.91,1330.3 \n",
       "  1967.73,1329.01 1998.59,1327.54 2037.02,1325.75 2081.54,1323.71 2127.58,1321.64 2171.24,1319.72 2211.71,1317.97 2249.93,1316.35 2287.18,1314.8 2291.54,1314.62 \n",
       "  \n",
       "  \"/>\n",
       "<polyline clip-path=\"url(#clip5902)\" style=\"stroke:#e26f46; stroke-width:4; stroke-opacity:1; fill:none\" points=\"\n",
       "  251.068,1425.88 251.182,1425.83 252.01,1425.49 252.918,1425.14 254.753,1424.45 256.633,1423.78 259.531,1422.81 262.723,1421.83 266.859,1420.65 271.7,1419.38 \n",
       "  277.618,1417.95 284.569,1416.37 292.791,1414.61 302.321,1412.65 313.299,1410.47 325.626,1408.1 339.176,1405.58 353.571,1403 368.636,1400.4 380.274,1398.45 \n",
       "  390.325,1396.78 398.422,1395.42 407.571,1393.89 415.998,1392.51 425.114,1391.08 435.757,1389.48 446.447,1387.93 457.708,1386.36 469.116,1384.85 480.759,1383.36 \n",
       "  492.595,1381.92 504.056,1380.58 515.975,1379.25 527.757,1377.98 539.701,1376.76 551.636,1375.59 563.679,1374.46 575.554,1373.4 587.506,1372.37 599.56,1371.38 \n",
       "  611.681,1370.43 623.926,1369.51 636.247,1368.63 648.64,1367.79 661.1,1366.98 673.678,1366.2 686.443,1365.44 699.361,1364.72 712.386,1364.01 725.525,1363.33 \n",
       "  738.762,1362.68 752.201,1362.04 765.019,1361.46 778.34,1360.89 791.524,1360.34 804.848,1359.81 818.133,1359.31 831.469,1358.83 844.793,1358.37 858.141,1357.93 \n",
       "  871.499,1357.51 884.879,1357.11 898.304,1356.72 911.866,1356.35 925.813,1355.98 940.577,1355.6 957.179,1355.19 976.402,1354.73 999.649,1354.2 1020.94,1353.7 \n",
       "  1041.33,1353.22 1068.4,1352.56 1099.46,1351.76 1122.92,1351.14 1144.64,1350.53 1170.71,1349.75 1195.38,1348.97 1222.31,1348.05 1254.16,1346.85 1283.45,1345.66 \n",
       "  1313.13,1344.39 1342.1,1343.09 1366.01,1342 1386.17,1341.06 1407.52,1340.05 1426,1339.17 1449.7,1338.04 1469.43,1337.09 1488.54,1336.18 1499,1335.68 \n",
       "  1504.68,1335.4 1509.64,1335.17 1512.43,1335.03 1516.65,1334.83 1520.85,1334.63 1527.77,1334.3 1534.24,1333.99 1542.25,1333.6 1550.57,1333.21 1559.72,1332.77 \n",
       "  1569.63,1332.3 1580.22,1331.8 1591.6,1331.26 1603.89,1330.67 1617.29,1330.04 1632.17,1329.34 1649.16,1328.54 1663.28,1327.88 1677.23,1327.23 1695.72,1326.38 \n",
       "  1714.97,1325.49 1731.71,1324.73 1748.56,1323.97 1768.19,1323.09 1791,1322.07 1819.45,1320.82 1855.23,1319.26 1896,1317.52 1918.92,1316.55 1940.91,1315.63 \n",
       "  1967.73,1314.52 1998.59,1313.25 2037.02,1311.7 2081.54,1309.93 2127.58,1308.13 2171.24,1306.46 2211.71,1304.93 2249.93,1303.51 2287.18,1302.15 2291.54,1301.99 \n",
       "  \n",
       "  \"/>\n",
       "<polyline clip-path=\"url(#clip5902)\" style=\"stroke:#3da44d; stroke-width:4; stroke-opacity:1; fill:none\" points=\"\n",
       "  251.068,1419.79 251.182,1419.75 252.01,1419.44 252.918,1419.1 254.753,1418.45 256.633,1417.82 259.531,1416.91 262.723,1415.99 266.859,1414.88 271.7,1413.68 \n",
       "  277.618,1412.32 284.569,1410.83 292.791,1409.16 302.321,1407.29 313.299,1405.2 325.626,1402.91 339.176,1400.44 353.571,1397.88 368.636,1395.24 380.274,1393.23 \n",
       "  390.325,1391.45 398.422,1389.97 407.571,1388.27 415.998,1386.68 425.114,1384.89 435.757,1382.72 446.447,1380.44 457.708,1377.91 469.116,1375.23 480.759,1372.35 \n",
       "  492.595,1369.28 504.056,1366.17 515.975,1362.81 527.757,1359.35 539.701,1355.71 551.636,1351.96 563.679,1348.06 575.554,1344.12 587.506,1340.05 599.56,1335.87 \n",
       "  611.681,1331.59 623.926,1327.2 636.247,1322.73 648.64,1318.19 661.1,1313.6 673.678,1308.95 686.443,1304.24 699.361,1299.48 712.386,1294.72 725.525,1289.97 \n",
       "  738.762,1285.25 752.201,1280.55 765.019,1276.15 778.34,1271.7 791.524,1267.4 804.848,1263.2 818.133,1259.14 831.469,1255.22 844.793,1251.46 858.141,1247.85 \n",
       "  871.499,1244.39 884.879,1241.1 898.304,1237.95 911.866,1234.94 925.813,1232.02 940.577,1229.12 957.179,1226.08 976.402,1222.85 999.649,1219.34 1020.94,1216.48 \n",
       "  1041.33,1214.03 1068.4,1211.18 1099.46,1208.42 1122.92,1206.65 1144.64,1205.21 1170.71,1203.73 1195.38,1202.53 1222.31,1201.42 1254.16,1200.33 1283.45,1199.5 \n",
       "  1313.13,1198.79 1342.1,1198.2 1366.01,1197.78 1386.17,1197.46 1407.52,1197.16 1426,1196.91 1449.7,1196.62 1469.43,1196.39 1488.54,1196.18 1499,1196.06 \n",
       "  1504.68,1195.99 1509.64,1195.94 1512.43,1195.9 1516.65,1195.86 1520.85,1195.81 1527.77,1195.73 1534.24,1195.65 1542.25,1195.56 1550.57,1195.46 1559.72,1195.36 \n",
       "  1569.63,1195.24 1580.22,1195.12 1591.6,1194.99 1603.89,1194.84 1617.29,1194.69 1632.17,1194.51 1649.16,1194.31 1663.28,1194.14 1677.23,1193.98 1695.72,1193.76 \n",
       "  1714.97,1193.54 1731.71,1193.34 1748.56,1193.14 1768.19,1192.91 1791,1192.64 1819.45,1192.31 1855.23,1191.89 1896,1191.42 1918.92,1191.15 1940.91,1190.9 \n",
       "  1967.73,1190.59 1998.59,1190.23 2037.02,1189.79 2081.54,1189.28 2127.58,1188.76 2171.24,1188.27 2211.71,1187.81 2249.93,1187.38 2287.18,1186.97 2291.54,1186.92 \n",
       "  \n",
       "  \"/>\n",
       "<polyline clip-path=\"url(#clip5902)\" style=\"stroke:#c271d2; stroke-width:4; stroke-opacity:1; fill:none\" points=\"\n",
       "  251.068,1406.49 251.182,1406.45 252.01,1406.17 252.918,1405.88 254.753,1405.31 256.633,1404.76 259.531,1403.96 262.723,1403.15 266.859,1402.16 271.7,1401.09 \n",
       "  277.618,1399.87 284.569,1398.5 292.791,1396.93 302.321,1395.15 313.299,1393.11 325.626,1390.79 339.176,1388.2 353.571,1385.36 368.636,1382.2 380.274,1379.57 \n",
       "  390.325,1376.99 398.422,1374.65 407.571,1371.65 415.998,1368.46 425.114,1364.48 435.757,1359.05 446.447,1352.73 457.708,1345.11 469.116,1336.43 480.759,1326.62 \n",
       "  492.595,1315.76 504.056,1304.49 515.975,1292.1 527.757,1279.29 539.701,1265.84 551.636,1252.05 563.679,1237.87 575.554,1223.72 587.506,1209.36 599.56,1194.85 \n",
       "  611.681,1180.26 623.926,1165.58 636.247,1150.92 648.64,1136.31 661.1,1121.81 673.678,1107.4 686.443,1093.05 699.361,1078.84 712.386,1064.86 725.525,1051.15 \n",
       "  738.762,1037.74 752.201,1024.58 765.019,1012.46 778.34,1000.33 791.524,988.791 804.848,977.614 818.133,966.953 831.469,956.738 844.793,947.016 858.141,937.757 \n",
       "  871.499,928.965 884.879,920.628 898.304,912.723 911.866,905.196 925.813,897.924 940.577,890.725 957.179,883.223 976.402,875.283 999.649,866.683 1020.94,859.695 \n",
       "  1041.33,853.727 1068.4,846.79 1099.46,840.047 1122.92,835.705 1144.64,832.188 1170.71,828.53 1195.38,825.568 1222.31,822.821 1254.16,820.14 1283.45,818.133 \n",
       "  1313.13,816.466 1342.1,815.137 1366.01,814.225 1386.17,813.568 1407.52,812.97 1426,812.526 1449.7,812.043 1469.43,811.708 1488.54,811.436 1499,811.308 \n",
       "  1504.68,811.245 1509.64,811.193 1512.43,811.165 1516.65,811.125 1520.85,811.086 1527.77,811.026 1534.24,810.973 1542.25,810.91 1550.57,810.849 1559.72,810.784 \n",
       "  1569.63,810.718 1580.22,810.65 1591.6,810.581 1603.89,810.511 1617.29,810.438 1632.17,810.363 1649.16,810.284 1663.28,810.222 1677.23,810.165 1695.72,810.094 \n",
       "  1714.97,810.026 1731.71,809.971 1748.56,809.92 1768.19,809.864 1791,809.805 1819.45,809.739 1855.23,809.666 1896,809.594 1918.92,809.559 1940.91,809.527 \n",
       "  1967.73,809.491 1998.59,809.453 2037.02,809.411 2081.54,809.366 2127.58,809.325 2171.24,809.289 2211.71,809.258 2249.93,809.23 2287.18,809.203 2291.54,809.2 \n",
       "  \n",
       "  \"/>\n",
       "<polyline clip-path=\"url(#clip5902)\" style=\"stroke:#ac8d18; stroke-width:4; stroke-opacity:1; fill:none\" points=\"\n",
       "  251.068,1381.78 251.182,1381.75 252.01,1381.54 252.918,1381.31 254.753,1380.87 256.633,1380.44 259.531,1379.81 262.723,1379.15 266.859,1378.31 271.7,1377.35 \n",
       "  277.618,1376.17 284.569,1374.73 292.791,1372.92 302.321,1370.64 313.299,1367.71 325.626,1363.94 339.176,1359.04 353.571,1352.7 368.636,1344.48 380.274,1336.72 \n",
       "  390.325,1328.35 398.422,1320.2 407.571,1309.32 415.998,1297.47 425.114,1282.63 435.757,1262.96 446.447,1241.22 457.708,1216.87 469.116,1191.3 480.759,1164.76 \n",
       "  492.595,1137.68 504.056,1111.57 515.975,1084.69 527.757,1058.46 539.701,1032.26 551.636,1006.48 563.679,980.898 575.554,956.076 587.506,931.496 599.56,907.111 \n",
       "  611.681,882.988 623.926,859.029 636.247,835.343 648.64,811.963 661.1,788.935 673.678,766.204 686.443,743.7 699.361,721.534 712.386,699.832 725.525,678.624 \n",
       "  738.762,657.973 752.201,637.761 765.019,619.242 778.34,600.893 791.524,583.77 804.848,567.625 818.133,552.75 831.469,539.061 844.793,526.594 858.141,515.26 \n",
       "  871.499,504.998 884.879,495.719 898.304,487.326 911.866,479.694 925.813,472.647 940.577,465.979 957.179,459.347 976.402,452.667 999.649,445.813 1020.94,440.53 \n",
       "  1041.33,436.219 1068.4,431.444 1099.46,427.054 1122.92,424.366 1144.64,422.275 1170.71,420.188 1195.38,418.573 1222.31,417.141 1254.16,415.814 1283.45,414.876 \n",
       "  1313.13,414.14 1342.1,413.587 1366.01,413.227 1386.17,412.98 1407.52,412.765 1426,412.612 1449.7,412.452 1469.43,412.347 1488.54,412.263 1499,412.225 \n",
       "  1504.68,412.206 1509.64,412.19 1512.43,412.181 1516.65,412.169 1520.85,412.157 1527.77,412.139 1534.24,412.122 1542.25,412.103 1550.57,412.084 1559.72,412.065 \n",
       "  1569.63,412.045 1580.22,412.025 1591.6,412.005 1603.89,411.986 1617.29,411.966 1632.17,411.946 1649.16,411.925 1663.28,411.909 1677.23,411.895 1695.72,411.878 \n",
       "  1714.97,411.863 1731.71,411.85 1748.56,411.84 1768.19,411.828 1791,411.817 1819.45,411.805 1855.23,411.792 1896,411.781 1918.92,411.776 1940.91,411.772 \n",
       "  1967.73,411.767 1998.59,411.763 2037.02,411.759 2081.54,411.755 2127.58,411.752 2171.24,411.75 2211.71,411.748 2249.93,411.747 2287.18,411.746 2291.54,411.746 \n",
       "  \n",
       "  \"/>\n",
       "<polyline clip-path=\"url(#clip5902)\" style=\"stroke:#00a9ad; stroke-width:4; stroke-opacity:1; fill:none\" points=\"\n",
       "  251.068,1376.08 251.182,1376.04 252.01,1375.77 252.918,1375.49 254.753,1374.93 256.633,1374.38 259.531,1373.55 262.723,1372.63 266.859,1371.41 271.7,1369.9 \n",
       "  277.618,1367.87 284.569,1365.22 292.791,1361.64 302.321,1356.79 313.299,1350.12 325.626,1340.89 339.176,1328.1 353.571,1310.79 368.636,1288 380.274,1266.8 \n",
       "  390.325,1244.75 398.422,1224.32 407.571,1198.75 415.998,1172.85 425.114,1142.88 435.757,1106.6 446.447,1069.91 457.708,1031.75 469.116,993.961 480.759,956.374 \n",
       "  492.595,919.152 504.056,883.969 515.975,848.187 527.757,813.531 539.701,779.056 551.636,745.201 563.679,711.603 575.554,679.002 587.506,646.876 599.56,615.67 \n",
       "  611.681,586.107 623.926,558.561 636.247,533.399 648.64,510.668 661.1,490.283 673.678,472 686.443,455.562 699.361,440.849 712.386,427.738 725.525,416.048 \n",
       "  738.762,405.638 752.201,396.294 765.019,388.391 778.34,381.093 791.524,374.679 804.848,368.914 818.133,363.801 831.469,359.231 844.793,355.161 858.141,351.525 \n",
       "  871.499,348.278 884.879,345.374 898.304,342.772 911.866,340.426 925.813,338.274 940.577,336.254 957.179,334.259 976.402,332.268 999.649,330.246 1020.94,328.706 \n",
       "  1041.33,327.465 1068.4,326.11 1099.46,324.888 1122.92,324.155 1144.64,323.595 1170.71,323.046 1195.38,322.63 1222.31,322.269 1254.16,321.943 1283.45,321.719 \n",
       "  1313.13,321.546 1342.1,321.419 1366.01,321.338 1386.17,321.283 1407.52,321.236 1426,321.202 1449.7,321.167 1469.43,321.144 1488.54,321.125 1499,321.116 \n",
       "  1504.68,321.112 1509.64,321.108 1512.43,321.107 1516.65,321.104 1520.85,321.101 1527.77,321.097 1534.24,321.093 1542.25,321.088 1550.57,321.084 1559.72,321.079 \n",
       "  1569.63,321.075 1580.22,321.07 1591.6,321.066 1603.89,321.061 1617.29,321.056 1632.17,321.052 1649.16,321.047 1663.28,321.043 1677.23,321.04 1695.72,321.036 \n",
       "  1714.97,321.032 1731.71,321.029 1748.56,321.027 1768.19,321.024 1791,321.021 1819.45,321.018 1855.23,321.015 1896,321.013 1918.92,321.012 1940.91,321.011 \n",
       "  1967.73,321.01 1998.59,321.008 2037.02,321.007 2081.54,321.006 2127.58,321.006 2171.24,321.005 2211.71,321.005 2249.93,321.004 2287.18,321.004 2291.54,321.004 \n",
       "  \n",
       "  \"/>\n",
       "<polyline clip-path=\"url(#clip5902)\" style=\"stroke:#ed5d92; stroke-width:4; stroke-opacity:1; fill:none\" points=\"\n",
       "  251.068,1399.95 251.182,1399.9 252.01,1399.56 252.918,1399.19 254.753,1398.46 256.633,1397.7 259.531,1396.46 262.723,1394.94 266.859,1392.66 271.7,1389.49 \n",
       "  277.618,1384.83 284.569,1378.26 292.791,1368.96 302.321,1356.03 313.299,1338.06 325.626,1313.58 339.176,1281.15 353.571,1240.68 368.636,1192.84 380.274,1152.72 \n",
       "  390.325,1114.35 398.422,1081.3 407.571,1042.43 415.998,1005.11 425.114,963.88 435.757,916.003 446.447,869.095 457.708,821.239 469.116,774.292 480.759,727.729 \n",
       "  492.595,681.554 504.056,637.896 515.975,594.2 527.757,553.86 539.701,516.73 551.636,483.676 563.679,454.274 575.554,428.809 587.506,406.304 599.56,386.375 \n",
       "  611.681,368.758 623.926,353.095 636.247,339.201 648.64,326.859 661.1,315.884 673.678,306.07 686.443,297.243 699.361,289.323 712.386,282.239 725.525,275.896 \n",
       "  738.762,270.22 752.201,265.102 765.019,260.753 778.34,256.719 791.524,253.159 804.848,249.948 818.133,247.089 831.469,244.524 844.793,242.234 858.141,240.182 \n",
       "  871.499,238.344 884.879,236.696 898.304,235.216 911.866,233.879 925.813,232.65 940.577,231.494 957.179,230.35 976.402,229.205 999.649,228.041 1020.94,227.153 \n",
       "  1041.33,226.435 1068.4,225.651 1099.46,224.942 1122.92,224.516 1144.64,224.19 1170.71,223.871 1195.38,223.629 1222.31,223.418 1254.16,223.228 1283.45,223.097 \n",
       "  1313.13,222.996 1342.1,222.922 1366.01,222.874 1386.17,222.842 1407.52,222.814 1426,222.794 1449.7,222.774 1469.43,222.76 1488.54,222.749 1499,222.744 \n",
       "  1504.68,222.742 1509.64,222.74 1512.43,222.738 1516.65,222.737 1520.85,222.735 1527.77,222.733 1534.24,222.73 1542.25,222.728 1550.57,222.725 1559.72,222.722 \n",
       "  1569.63,222.72 1580.22,222.717 1591.6,222.714 1603.89,222.711 1617.29,222.709 1632.17,222.706 1649.16,222.703 1663.28,222.701 1677.23,222.699 1695.72,222.697 \n",
       "  1714.97,222.694 1731.71,222.693 1748.56,222.691 1768.19,222.69 1791,222.688 1819.45,222.686 1855.23,222.685 1896,222.683 1918.92,222.682 1940.91,222.682 \n",
       "  1967.73,222.681 1998.59,222.681 2037.02,222.68 2081.54,222.68 2127.58,222.679 2171.24,222.679 2211.71,222.679 2249.93,222.678 2287.18,222.678 2291.54,222.678 \n",
       "  \n",
       "  \"/>\n",
       "<polyline clip-path=\"url(#clip5902)\" style=\"stroke:#c68125; stroke-width:4; stroke-opacity:1; fill:none\" points=\"\n",
       "  251.068,1420.99 251.182,1420.91 252.01,1420.38 252.918,1419.81 254.753,1418.66 256.633,1417.43 259.531,1415.34 262.723,1412.66 266.859,1408.47 271.7,1402.47 \n",
       "  277.618,1393.52 284.569,1380.85 292.791,1362.88 302.321,1337.89 313.299,1303.2 325.626,1256.67 339.176,1197.44 353.571,1127.92 368.636,1051.03 380.274,989.799 \n",
       "  390.325,933.52 398.422,886.633 407.571,832.911 415.998,782.329 425.114,727.542 435.757,665.8 446.447,608.654 457.708,555.292 469.116,508.542 480.759,467.695 \n",
       "  492.595,432.265 504.056,402.86 515.975,376.545 527.757,354.094 539.701,334.363 551.636,317.209 563.679,302.102 575.554,289.05 587.506,277.501 599.56,267.245 \n",
       "  611.681,258.15 623.926,250.042 636.247,242.836 648.64,236.43 661.1,230.735 673.678,225.65 686.443,221.089 699.361,217.012 712.386,213.385 725.525,210.157 \n",
       "  738.762,207.291 752.201,204.728 765.019,202.571 778.34,200.591 791.524,198.863 804.848,197.324 818.133,195.971 831.469,194.774 844.793,193.721 858.141,192.791 \n",
       "  871.499,191.972 884.879,191.25 898.304,190.612 911.866,190.046 925.813,189.535 940.577,189.065 957.179,188.609 976.402,188.165 999.649,187.728 1020.94,187.405 \n",
       "  1041.33,187.153 1068.4,186.887 1099.46,186.657 1122.92,186.525 1144.64,186.428 1170.71,186.336 1195.38,186.269 1222.31,186.212 1254.16,186.164 1283.45,186.131 \n",
       "  1313.13,186.107 1342.1,186.089 1366.01,186.078 1386.17,186.071 1407.52,186.065 1426,186.06 1449.7,186.055 1469.43,186.052 1488.54,186.05 1499,186.048 \n",
       "  1504.68,186.048 1509.64,186.047 1512.43,186.047 1516.65,186.046 1520.85,186.046 1527.77,186.045 1534.24,186.045 1542.25,186.044 1550.57,186.043 1559.72,186.043 \n",
       "  1569.63,186.042 1580.22,186.041 1591.6,186.041 1603.89,186.04 1617.29,186.039 1632.17,186.039 1649.16,186.038 1663.28,186.037 1677.23,186.037 1695.72,186.036 \n",
       "  1714.97,186.036 1731.71,186.035 1748.56,186.035 1768.19,186.034 1791,186.034 1819.45,186.034 1855.23,186.033 1896,186.033 1918.92,186.032 1940.91,186.032 \n",
       "  1967.73,186.032 1998.59,186.032 2037.02,186.032 2081.54,186.032 2127.58,186.032 2171.24,186.031 2211.71,186.031 2249.93,186.031 2287.18,186.031 2291.54,186.031 \n",
       "  \n",
       "  \"/>\n",
       "<polyline clip-path=\"url(#clip5902)\" style=\"stroke:#00a98d; stroke-width:4; stroke-opacity:1; fill:none\" points=\"\n",
       "  251.068,1448.82 251.182,1448.72 252.01,1448.02 252.918,1447.25 254.753,1445.68 256.633,1443.97 259.531,1440.97 262.723,1436.97 266.859,1430.57 271.7,1421.28 \n",
       "  277.618,1407.4 284.569,1387.77 292.791,1359.96 302.321,1321.17 313.299,1267.61 325.626,1197.57 339.176,1112.35 353.571,1016.99 368.636,915.392 380.274,836.212 \n",
       "  390.325,765.189 398.422,708.812 407.571,649.14 415.998,598.444 425.114,549.248 435.757,499.656 446.447,457.512 457.708,420.019 469.116,387.893 480.759,360.002 \n",
       "  492.595,335.766 504.056,315.541 515.975,297.315 527.757,281.649 539.701,267.784 551.636,255.65 563.679,244.899 575.554,235.563 587.506,227.262 599.56,219.86 \n",
       "  611.681,213.274 623.926,207.383 636.247,202.134 648.64,197.456 661.1,193.289 673.678,189.562 686.443,186.214 699.361,183.219 712.386,180.55 725.525,178.173 \n",
       "  738.762,176.061 752.201,174.172 765.019,172.581 778.34,171.12 791.524,169.845 804.848,168.708 818.133,167.709 831.469,166.825 844.793,166.047 858.141,165.361 \n",
       "  871.499,164.755 884.879,164.222 898.304,163.75 911.866,163.331 925.813,162.954 940.577,162.606 957.179,162.268 976.402,161.939 999.649,161.615 1020.94,161.375 \n",
       "  1041.33,161.187 1068.4,160.988 1099.46,160.816 1122.92,160.717 1144.64,160.643 1170.71,160.573 1195.38,160.521 1222.31,160.478 1254.16,160.439 1283.45,160.414 \n",
       "  1313.13,160.394 1342.1,160.38 1366.01,160.371 1386.17,160.365 1407.52,160.359 1426,160.356 1449.7,160.351 1469.43,160.349 1488.54,160.346 1499,160.345 \n",
       "  1504.68,160.345 1509.64,160.344 1512.43,160.344 1516.65,160.344 1520.85,160.343 1527.77,160.343 1534.24,160.342 1542.25,160.342 1550.57,160.341 1559.72,160.34 \n",
       "  1569.63,160.34 1580.22,160.339 1591.6,160.338 1603.89,160.338 1617.29,160.337 1632.17,160.336 1649.16,160.336 1663.28,160.335 1677.23,160.335 1695.72,160.334 \n",
       "  1714.97,160.334 1731.71,160.333 1748.56,160.333 1768.19,160.333 1791,160.332 1819.45,160.332 1855.23,160.331 1896,160.331 1918.92,160.331 1940.91,160.331 \n",
       "  1967.73,160.331 1998.59,160.33 2037.02,160.33 2081.54,160.33 2127.58,160.33 2171.24,160.33 2211.71,160.33 2249.93,160.33 2287.18,160.33 2291.54,160.33 \n",
       "  \n",
       "  \"/>\n",
       "<path clip-path=\"url(#clip5900)\" d=\"\n",
       "M1989.93 1343.47 L2280.76 1343.47 L2280.76 738.675 L1989.93 738.675  Z\n",
       "  \" fill=\"#ffffff\" fill-rule=\"evenodd\" fill-opacity=\"1\"/>\n",
       "<polyline clip-path=\"url(#clip5900)\" style=\"stroke:#000000; stroke-width:4; stroke-opacity:1; fill:none\" points=\"\n",
       "  1989.93,1343.47 2280.76,1343.47 2280.76,738.675 1989.93,738.675 1989.93,1343.47 \n",
       "  \"/>\n",
       "<polyline clip-path=\"url(#clip5900)\" style=\"stroke:#009af9; stroke-width:4; stroke-opacity:1; fill:none\" points=\"\n",
       "  2013.93,799.155 2157.93,799.155 \n",
       "  \"/>\n",
       "<g clip-path=\"url(#clip5900)\">\n",
       "<text style=\"fill:#000000; fill-opacity:1; font-family:Arial,Helvetica Neue,Helvetica,sans-serif; font-size:48px; text-anchor:start;\" transform=\"rotate(0, 2181.93, 816.655)\" x=\"2181.93\" y=\"816.655\">y1</text>\n",
       "</g>\n",
       "<polyline clip-path=\"url(#clip5900)\" style=\"stroke:#e26f46; stroke-width:4; stroke-opacity:1; fill:none\" points=\"\n",
       "  2013.93,859.635 2157.93,859.635 \n",
       "  \"/>\n",
       "<g clip-path=\"url(#clip5900)\">\n",
       "<text style=\"fill:#000000; fill-opacity:1; font-family:Arial,Helvetica Neue,Helvetica,sans-serif; font-size:48px; text-anchor:start;\" transform=\"rotate(0, 2181.93, 877.135)\" x=\"2181.93\" y=\"877.135\">y2</text>\n",
       "</g>\n",
       "<polyline clip-path=\"url(#clip5900)\" style=\"stroke:#3da44d; stroke-width:4; stroke-opacity:1; fill:none\" points=\"\n",
       "  2013.93,920.115 2157.93,920.115 \n",
       "  \"/>\n",
       "<g clip-path=\"url(#clip5900)\">\n",
       "<text style=\"fill:#000000; fill-opacity:1; font-family:Arial,Helvetica Neue,Helvetica,sans-serif; font-size:48px; text-anchor:start;\" transform=\"rotate(0, 2181.93, 937.615)\" x=\"2181.93\" y=\"937.615\">y3</text>\n",
       "</g>\n",
       "<polyline clip-path=\"url(#clip5900)\" style=\"stroke:#c271d2; stroke-width:4; stroke-opacity:1; fill:none\" points=\"\n",
       "  2013.93,980.595 2157.93,980.595 \n",
       "  \"/>\n",
       "<g clip-path=\"url(#clip5900)\">\n",
       "<text style=\"fill:#000000; fill-opacity:1; font-family:Arial,Helvetica Neue,Helvetica,sans-serif; font-size:48px; text-anchor:start;\" transform=\"rotate(0, 2181.93, 998.095)\" x=\"2181.93\" y=\"998.095\">y4</text>\n",
       "</g>\n",
       "<polyline clip-path=\"url(#clip5900)\" style=\"stroke:#ac8d18; stroke-width:4; stroke-opacity:1; fill:none\" points=\"\n",
       "  2013.93,1041.07 2157.93,1041.07 \n",
       "  \"/>\n",
       "<g clip-path=\"url(#clip5900)\">\n",
       "<text style=\"fill:#000000; fill-opacity:1; font-family:Arial,Helvetica Neue,Helvetica,sans-serif; font-size:48px; text-anchor:start;\" transform=\"rotate(0, 2181.93, 1058.57)\" x=\"2181.93\" y=\"1058.57\">y5</text>\n",
       "</g>\n",
       "<polyline clip-path=\"url(#clip5900)\" style=\"stroke:#00a9ad; stroke-width:4; stroke-opacity:1; fill:none\" points=\"\n",
       "  2013.93,1101.55 2157.93,1101.55 \n",
       "  \"/>\n",
       "<g clip-path=\"url(#clip5900)\">\n",
       "<text style=\"fill:#000000; fill-opacity:1; font-family:Arial,Helvetica Neue,Helvetica,sans-serif; font-size:48px; text-anchor:start;\" transform=\"rotate(0, 2181.93, 1119.05)\" x=\"2181.93\" y=\"1119.05\">y6</text>\n",
       "</g>\n",
       "<polyline clip-path=\"url(#clip5900)\" style=\"stroke:#ed5d92; stroke-width:4; stroke-opacity:1; fill:none\" points=\"\n",
       "  2013.93,1162.03 2157.93,1162.03 \n",
       "  \"/>\n",
       "<g clip-path=\"url(#clip5900)\">\n",
       "<text style=\"fill:#000000; fill-opacity:1; font-family:Arial,Helvetica Neue,Helvetica,sans-serif; font-size:48px; text-anchor:start;\" transform=\"rotate(0, 2181.93, 1179.53)\" x=\"2181.93\" y=\"1179.53\">y7</text>\n",
       "</g>\n",
       "<polyline clip-path=\"url(#clip5900)\" style=\"stroke:#c68125; stroke-width:4; stroke-opacity:1; fill:none\" points=\"\n",
       "  2013.93,1222.51 2157.93,1222.51 \n",
       "  \"/>\n",
       "<g clip-path=\"url(#clip5900)\">\n",
       "<text style=\"fill:#000000; fill-opacity:1; font-family:Arial,Helvetica Neue,Helvetica,sans-serif; font-size:48px; text-anchor:start;\" transform=\"rotate(0, 2181.93, 1240.01)\" x=\"2181.93\" y=\"1240.01\">y8</text>\n",
       "</g>\n",
       "<polyline clip-path=\"url(#clip5900)\" style=\"stroke:#00a98d; stroke-width:4; stroke-opacity:1; fill:none\" points=\"\n",
       "  2013.93,1282.99 2157.93,1282.99 \n",
       "  \"/>\n",
       "<g clip-path=\"url(#clip5900)\">\n",
       "<text style=\"fill:#000000; fill-opacity:1; font-family:Arial,Helvetica Neue,Helvetica,sans-serif; font-size:48px; text-anchor:start;\" transform=\"rotate(0, 2181.93, 1300.49)\" x=\"2181.93\" y=\"1300.49\">y9</text>\n",
       "</g>\n",
       "</svg>\n"
      ]
     },
     "execution_count": 38,
     "metadata": {},
     "output_type": "execute_result"
    }
   ],
   "source": [
    "@df solDF plot(:t, [:D0 ,:D1, :D2, :D3, :D4, :D5, :D6, :D7, :D8], title = \"Deaths by age group\", yscale = :log10, legend = :bottomright)"
   ]
  },
  {
   "cell_type": "code",
   "execution_count": 39,
   "metadata": {},
   "outputs": [
    {
     "data": {
      "image/svg+xml": [
       "<?xml version=\"1.0\" encoding=\"utf-8\"?>\n",
       "<svg xmlns=\"http://www.w3.org/2000/svg\" xmlns:xlink=\"http://www.w3.org/1999/xlink\" width=\"600\" height=\"400\" viewBox=\"0 0 2400 1600\">\n",
       "<defs>\n",
       "  <clipPath id=\"clip6300\">\n",
       "    <rect x=\"0\" y=\"0\" width=\"2400\" height=\"1600\"/>\n",
       "  </clipPath>\n",
       "</defs>\n",
       "<path clip-path=\"url(#clip6300)\" d=\"\n",
       "M0 1600 L2400 1600 L2400 0 L0 0  Z\n",
       "  \" fill=\"#ffffff\" fill-rule=\"evenodd\" fill-opacity=\"1\"/>\n",
       "<defs>\n",
       "  <clipPath id=\"clip6301\">\n",
       "    <rect x=\"480\" y=\"0\" width=\"1681\" height=\"1600\"/>\n",
       "  </clipPath>\n",
       "</defs>\n",
       "<path clip-path=\"url(#clip6300)\" d=\"\n",
       "M301.332 1487.47 L2352.76 1487.47 L2352.76 121.675 L301.332 121.675  Z\n",
       "  \" fill=\"#ffffff\" fill-rule=\"evenodd\" fill-opacity=\"1\"/>\n",
       "<defs>\n",
       "  <clipPath id=\"clip6302\">\n",
       "    <rect x=\"301\" y=\"121\" width=\"2052\" height=\"1367\"/>\n",
       "  </clipPath>\n",
       "</defs>\n",
       "<polyline clip-path=\"url(#clip6302)\" style=\"stroke:#000000; stroke-width:2; stroke-opacity:0.1; fill:none\" points=\"\n",
       "  359.391,1487.47 359.391,121.675 \n",
       "  \"/>\n",
       "<polyline clip-path=\"url(#clip6302)\" style=\"stroke:#000000; stroke-width:2; stroke-opacity:0.1; fill:none\" points=\"\n",
       "  885.289,1487.47 885.289,121.675 \n",
       "  \"/>\n",
       "<polyline clip-path=\"url(#clip6302)\" style=\"stroke:#000000; stroke-width:2; stroke-opacity:0.1; fill:none\" points=\"\n",
       "  1411.19,1487.47 1411.19,121.675 \n",
       "  \"/>\n",
       "<polyline clip-path=\"url(#clip6302)\" style=\"stroke:#000000; stroke-width:2; stroke-opacity:0.1; fill:none\" points=\"\n",
       "  1937.09,1487.47 1937.09,121.675 \n",
       "  \"/>\n",
       "<polyline clip-path=\"url(#clip6302)\" style=\"stroke:#000000; stroke-width:2; stroke-opacity:0.1; fill:none\" points=\"\n",
       "  301.332,1448.83 2352.76,1448.83 \n",
       "  \"/>\n",
       "<polyline clip-path=\"url(#clip6302)\" style=\"stroke:#000000; stroke-width:2; stroke-opacity:0.1; fill:none\" points=\"\n",
       "  301.332,1059.28 2352.76,1059.28 \n",
       "  \"/>\n",
       "<polyline clip-path=\"url(#clip6302)\" style=\"stroke:#000000; stroke-width:2; stroke-opacity:0.1; fill:none\" points=\"\n",
       "  301.332,669.733 2352.76,669.733 \n",
       "  \"/>\n",
       "<polyline clip-path=\"url(#clip6302)\" style=\"stroke:#000000; stroke-width:2; stroke-opacity:0.1; fill:none\" points=\"\n",
       "  301.332,280.186 2352.76,280.186 \n",
       "  \"/>\n",
       "<polyline clip-path=\"url(#clip6300)\" style=\"stroke:#000000; stroke-width:4; stroke-opacity:1; fill:none\" points=\"\n",
       "  301.332,1487.47 2352.76,1487.47 \n",
       "  \"/>\n",
       "<polyline clip-path=\"url(#clip6300)\" style=\"stroke:#000000; stroke-width:4; stroke-opacity:1; fill:none\" points=\"\n",
       "  301.332,1487.47 301.332,121.675 \n",
       "  \"/>\n",
       "<polyline clip-path=\"url(#clip6300)\" style=\"stroke:#000000; stroke-width:4; stroke-opacity:1; fill:none\" points=\"\n",
       "  359.391,1487.47 359.391,1471.09 \n",
       "  \"/>\n",
       "<polyline clip-path=\"url(#clip6300)\" style=\"stroke:#000000; stroke-width:4; stroke-opacity:1; fill:none\" points=\"\n",
       "  885.289,1487.47 885.289,1471.09 \n",
       "  \"/>\n",
       "<polyline clip-path=\"url(#clip6300)\" style=\"stroke:#000000; stroke-width:4; stroke-opacity:1; fill:none\" points=\"\n",
       "  1411.19,1487.47 1411.19,1471.09 \n",
       "  \"/>\n",
       "<polyline clip-path=\"url(#clip6300)\" style=\"stroke:#000000; stroke-width:4; stroke-opacity:1; fill:none\" points=\"\n",
       "  1937.09,1487.47 1937.09,1471.09 \n",
       "  \"/>\n",
       "<polyline clip-path=\"url(#clip6300)\" style=\"stroke:#000000; stroke-width:4; stroke-opacity:1; fill:none\" points=\"\n",
       "  301.332,1448.83 325.949,1448.83 \n",
       "  \"/>\n",
       "<polyline clip-path=\"url(#clip6300)\" style=\"stroke:#000000; stroke-width:4; stroke-opacity:1; fill:none\" points=\"\n",
       "  301.332,1059.28 325.949,1059.28 \n",
       "  \"/>\n",
       "<polyline clip-path=\"url(#clip6300)\" style=\"stroke:#000000; stroke-width:4; stroke-opacity:1; fill:none\" points=\"\n",
       "  301.332,669.733 325.949,669.733 \n",
       "  \"/>\n",
       "<polyline clip-path=\"url(#clip6300)\" style=\"stroke:#000000; stroke-width:4; stroke-opacity:1; fill:none\" points=\"\n",
       "  301.332,280.186 325.949,280.186 \n",
       "  \"/>\n",
       "<g clip-path=\"url(#clip6300)\">\n",
       "<text style=\"fill:#000000; fill-opacity:1; font-family:Arial,Helvetica Neue,Helvetica,sans-serif; font-size:48px; text-anchor:middle;\" transform=\"rotate(0, 359.391, 1541.47)\" x=\"359.391\" y=\"1541.47\">0</text>\n",
       "</g>\n",
       "<g clip-path=\"url(#clip6300)\">\n",
       "<text style=\"fill:#000000; fill-opacity:1; font-family:Arial,Helvetica Neue,Helvetica,sans-serif; font-size:48px; text-anchor:middle;\" transform=\"rotate(0, 885.289, 1541.47)\" x=\"885.289\" y=\"1541.47\">50</text>\n",
       "</g>\n",
       "<g clip-path=\"url(#clip6300)\">\n",
       "<text style=\"fill:#000000; fill-opacity:1; font-family:Arial,Helvetica Neue,Helvetica,sans-serif; font-size:48px; text-anchor:middle;\" transform=\"rotate(0, 1411.19, 1541.47)\" x=\"1411.19\" y=\"1541.47\">100</text>\n",
       "</g>\n",
       "<g clip-path=\"url(#clip6300)\">\n",
       "<text style=\"fill:#000000; fill-opacity:1; font-family:Arial,Helvetica Neue,Helvetica,sans-serif; font-size:48px; text-anchor:middle;\" transform=\"rotate(0, 1937.09, 1541.47)\" x=\"1937.09\" y=\"1541.47\">150</text>\n",
       "</g>\n",
       "<g clip-path=\"url(#clip6300)\">\n",
       "<text style=\"fill:#000000; fill-opacity:1; font-family:Arial,Helvetica Neue,Helvetica,sans-serif; font-size:48px; text-anchor:end;\" transform=\"rotate(0, 277.332, 1466.33)\" x=\"277.332\" y=\"1466.33\">0</text>\n",
       "</g>\n",
       "<g clip-path=\"url(#clip6300)\">\n",
       "<text style=\"fill:#000000; fill-opacity:1; font-family:Arial,Helvetica Neue,Helvetica,sans-serif; font-size:48px; text-anchor:start;\" transform=\"rotate(0, 107.046, 1083.01)\" x=\"107.046\" y=\"1083.01\">5.0×10</text>\n",
       "</g>\n",
       "<g clip-path=\"url(#clip6300)\">\n",
       "<text style=\"fill:#000000; fill-opacity:1; font-family:Arial,Helvetica Neue,Helvetica,sans-serif; font-size:38px; text-anchor:start;\" transform=\"rotate(0, 255.587, 1055.6)\" x=\"255.587\" y=\"1055.6\">4</text>\n",
       "</g>\n",
       "<g clip-path=\"url(#clip6300)\">\n",
       "<text style=\"fill:#000000; fill-opacity:1; font-family:Arial,Helvetica Neue,Helvetica,sans-serif; font-size:48px; text-anchor:start;\" transform=\"rotate(0, 107.046, 693.461)\" x=\"107.046\" y=\"693.461\">1.0×10</text>\n",
       "</g>\n",
       "<g clip-path=\"url(#clip6300)\">\n",
       "<text style=\"fill:#000000; fill-opacity:1; font-family:Arial,Helvetica Neue,Helvetica,sans-serif; font-size:38px; text-anchor:start;\" transform=\"rotate(0, 255.587, 666.05)\" x=\"255.587\" y=\"666.05\">5</text>\n",
       "</g>\n",
       "<g clip-path=\"url(#clip6300)\">\n",
       "<text style=\"fill:#000000; fill-opacity:1; font-family:Arial,Helvetica Neue,Helvetica,sans-serif; font-size:48px; text-anchor:start;\" transform=\"rotate(0, 107.046, 303.913)\" x=\"107.046\" y=\"303.913\">1.5×10</text>\n",
       "</g>\n",
       "<g clip-path=\"url(#clip6300)\">\n",
       "<text style=\"fill:#000000; fill-opacity:1; font-family:Arial,Helvetica Neue,Helvetica,sans-serif; font-size:38px; text-anchor:start;\" transform=\"rotate(0, 255.587, 276.503)\" x=\"255.587\" y=\"276.503\">5</text>\n",
       "</g>\n",
       "<g clip-path=\"url(#clip6300)\">\n",
       "<text style=\"fill:#000000; fill-opacity:1; font-family:Arial,Helvetica Neue,Helvetica,sans-serif; font-size:84px; text-anchor:middle;\" transform=\"rotate(0, 1327.04, 73.2)\" x=\"1327.04\" y=\"73.2\">Bed usage</text>\n",
       "</g>\n",
       "<polyline clip-path=\"url(#clip6302)\" style=\"stroke:#009af9; stroke-width:4; stroke-opacity:1; fill:none\" points=\"\n",
       "  359.391,1440.04 359.499,1440.04 360.284,1440.03 361.145,1440.01 362.886,1439.97 364.668,1439.9 367.418,1439.77 370.445,1439.6 374.368,1439.36 378.96,1439.06 \n",
       "  384.573,1438.65 391.165,1438.08 398.963,1437.18 408.002,1435.52 418.415,1431.99 430.106,1423.71 442.958,1402.67 456.611,1346.93 470.899,1193.54 481.937,904.065 \n",
       "  491.47,498.084 499.15,323.082 507.828,231.662 515.82,193.694 524.466,174.997 534.561,165.95 544.7,162.474 555.38,161.107 566.2,160.608 577.244,160.427 \n",
       "  588.469,160.363 599.34,160.342 610.644,160.334 621.819,160.331 633.147,160.33 644.468,160.33 655.889,160.33 667.152,160.33 678.488,160.33 689.921,160.33 \n",
       "  701.418,160.33 713.031,160.33 724.717,160.33 736.472,160.33 748.289,160.33 760.219,160.33 772.326,160.33 784.578,160.33 796.932,160.33 809.394,160.33 \n",
       "  821.949,160.33 834.695,160.33 846.852,160.33 859.487,160.33 871.991,160.33 884.628,160.33 897.229,160.33 909.877,160.33 922.515,160.33 935.175,160.33 \n",
       "  947.844,160.33 960.534,160.33 973.268,160.33 986.131,160.33 999.359,160.33 1013.36,160.33 1029.11,160.33 1047.34,160.33 1069.39,160.33 1089.58,160.33 \n",
       "  1108.92,160.33 1134.6,160.33 1164.06,160.33 1186.31,160.33 1206.9,160.33 1231.64,160.33 1255.04,160.33 1280.57,160.33 1310.79,160.33 1338.56,160.33 \n",
       "  1366.72,160.33 1394.19,160.33 1416.86,160.33 1435.98,160.33 1456.24,160.33 1473.77,160.33 1496.24,160.33 1514.95,160.33 1533.08,160.33 1543,160.33 \n",
       "  1548.39,160.33 1553.1,160.33 1555.74,160.33 1559.74,160.339 1563.73,160.375 1570.29,160.447 1576.42,160.502 1584.03,160.542 1591.92,160.557 1600.6,160.554 \n",
       "  1609.99,160.538 1620.04,160.512 1630.83,160.482 1642.48,160.449 1655.2,160.413 1669.31,160.374 1685.42,160.341 1698.82,160.333 1712.05,160.331 1729.59,160.33 \n",
       "  1747.84,160.33 1763.72,160.33 1779.71,160.33 1798.32,160.33 1819.95,160.33 1846.94,160.33 1880.88,160.33 1919.54,160.33 1941.28,160.33 1962.14,160.33 \n",
       "  1987.57,160.33 2016.84,160.33 2053.29,160.33 2095.52,160.33 2139.19,160.33 2180.6,160.33 2218.98,160.33 2255.23,160.33 2290.56,160.33 2294.7,160.33 \n",
       "  \n",
       "  \"/>\n",
       "<polyline clip-path=\"url(#clip6302)\" style=\"stroke:#e26f46; stroke-width:4; stroke-opacity:1; fill:none\" points=\"\n",
       "  359.391,1448.82 359.499,1448.82 360.284,1448.81 361.145,1448.81 362.886,1448.8 364.668,1448.79 367.418,1448.77 370.445,1448.76 374.368,1448.73 378.96,1448.7 \n",
       "  384.573,1448.65 391.165,1448.57 398.963,1448.45 408.002,1448.24 418.415,1447.84 430.106,1446.95 442.958,1444.72 456.611,1438.79 470.899,1422.28 481.937,1401.85 \n",
       "  491.47,1394.79 499.15,1392.31 507.828,1391.02 515.82,1390.48 524.466,1390.21 534.561,1390.09 544.7,1390.04 555.38,1390.02 566.2,1390.01 577.244,1390.01 \n",
       "  588.469,1390.01 599.34,1390.01 610.644,1390.01 621.819,1390.01 633.147,1390.01 644.468,1390.01 655.889,1390.01 667.152,1390.01 678.488,1390.01 689.921,1390.01 \n",
       "  701.418,1390.01 713.031,1390.01 724.717,1390.01 736.472,1390.01 748.289,1390.01 760.219,1390.01 772.326,1390.01 784.578,1390.01 796.932,1390.01 809.394,1390.01 \n",
       "  821.949,1390.01 834.695,1390.01 846.852,1390.01 859.487,1390.01 871.991,1390.01 884.628,1390.01 897.229,1390.01 909.877,1390.01 922.515,1390.01 935.175,1390.01 \n",
       "  947.844,1390.01 960.534,1390.01 973.268,1390.01 986.131,1390.01 999.359,1390.01 1013.36,1390.01 1029.11,1390.01 1047.34,1390.01 1069.39,1390.01 1089.58,1390.01 \n",
       "  1108.92,1390.01 1134.6,1390.01 1164.06,1390.01 1186.31,1390.01 1206.9,1390.01 1231.64,1390.01 1255.04,1390.01 1280.57,1390.01 1310.79,1390.42 1338.56,1392.35 \n",
       "  1366.72,1395.38 1394.19,1398.95 1416.86,1402.15 1435.98,1404.93 1456.24,1407.88 1473.77,1410.4 1496.24,1413.55 1514.95,1416.08 1533.08,1418.42 1543,1419.66 \n",
       "  1548.39,1420.32 1553.1,1420.88 1555.74,1421.21 1559.74,1421.72 1563.73,1422.25 1570.29,1423.17 1576.42,1424.07 1584.03,1425.2 1591.92,1426.36 1600.6,1427.6 \n",
       "  1609.99,1428.89 1620.04,1430.18 1630.83,1431.49 1642.48,1432.79 1655.2,1434.11 1669.31,1435.44 1685.42,1436.82 1698.82,1437.85 1712.05,1438.78 1729.59,1439.9 \n",
       "  1747.84,1440.93 1763.72,1441.73 1779.71,1442.45 1798.32,1443.2 1819.95,1443.96 1846.94,1444.76 1880.88,1445.59 1919.54,1446.32 1941.28,1446.66 1962.14,1446.94 \n",
       "  1987.57,1447.23 2016.84,1447.5 2053.29,1447.78 2095.52,1448.03 2139.19,1448.22 2180.6,1448.36 2218.98,1448.45 2255.23,1448.52 2290.56,1448.58 2294.7,1448.58 \n",
       "  \n",
       "  \"/>\n",
       "<path clip-path=\"url(#clip6300)\" d=\"\n",
       "M1941.79 386.635 L2280.76 386.635 L2280.76 205.195 L1941.79 205.195  Z\n",
       "  \" fill=\"#ffffff\" fill-rule=\"evenodd\" fill-opacity=\"1\"/>\n",
       "<polyline clip-path=\"url(#clip6300)\" style=\"stroke:#000000; stroke-width:4; stroke-opacity:1; fill:none\" points=\"\n",
       "  1941.79,386.635 2280.76,386.635 2280.76,205.195 1941.79,205.195 1941.79,386.635 \n",
       "  \"/>\n",
       "<polyline clip-path=\"url(#clip6300)\" style=\"stroke:#009af9; stroke-width:4; stroke-opacity:1; fill:none\" points=\"\n",
       "  1965.79,265.675 2109.79,265.675 \n",
       "  \"/>\n",
       "<g clip-path=\"url(#clip6300)\">\n",
       "<text style=\"fill:#000000; fill-opacity:1; font-family:Arial,Helvetica Neue,Helvetica,sans-serif; font-size:48px; text-anchor:start;\" transform=\"rotate(0, 2133.79, 283.175)\" x=\"2133.79\" y=\"283.175\">BED</text>\n",
       "</g>\n",
       "<polyline clip-path=\"url(#clip6300)\" style=\"stroke:#e26f46; stroke-width:4; stroke-opacity:1; fill:none\" points=\"\n",
       "  1965.79,326.155 2109.79,326.155 \n",
       "  \"/>\n",
       "<g clip-path=\"url(#clip6300)\">\n",
       "<text style=\"fill:#000000; fill-opacity:1; font-family:Arial,Helvetica Neue,Helvetica,sans-serif; font-size:48px; text-anchor:start;\" transform=\"rotate(0, 2133.79, 343.655)\" x=\"2133.79\" y=\"343.655\">ICU</text>\n",
       "</g>\n",
       "</svg>\n"
      ]
     },
     "execution_count": 39,
     "metadata": {},
     "output_type": "execute_result"
    }
   ],
   "source": [
    "@df solDF plot( :t, :Beds, label = \"BED\", legend = :topright, title = \"Bed usage\")\n",
    "@df solDF plot!(:t, :ICU, label = \"ICU\")\n"
   ]
  },
  {
   "cell_type": "markdown",
   "metadata": {},
   "source": [
    "# Bilibliography\n",
    "\n",
    "The Novel Coronavirus Pneumonia Emergency Response Epidemiology Team. The Epidemiological Characteristics of an Outbreak of 2019 Novel Coronavirus Diseases (COVID-19) — China, 2020[J]. China CDC Weekly, 2020, 2(8): 113-122. [LINK](http://weekly.chinacdc.cn/en/article/id/e53946e2-c6c4-41e9-9a9b-fea8db1a8f51)"
   ]
  },
  {
   "cell_type": "code",
   "execution_count": null,
   "metadata": {},
   "outputs": [],
   "source": []
  }
 ],
 "metadata": {
  "kernelspec": {
   "display_name": "Julia 1.4.0",
   "language": "julia",
   "name": "julia-1.4"
  },
  "language_info": {
   "file_extension": ".jl",
   "mimetype": "application/julia",
   "name": "julia",
   "version": "1.4.0"
  }
 },
 "nbformat": 4,
 "nbformat_minor": 4
}
